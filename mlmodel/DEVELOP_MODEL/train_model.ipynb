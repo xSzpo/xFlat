{
 "cells": [
  {
   "cell_type": "code",
   "execution_count": 1,
   "metadata": {},
   "outputs": [],
   "source": [
    "%load_ext autoreload\n",
    "%autoreload 2\n",
    "\n",
    "import helpers\n"
   ]
  },
  {
   "cell_type": "code",
   "execution_count": 2,
   "metadata": {},
   "outputs": [],
   "source": [
    "MONGO_ADDRESS = 'localhost'\n",
    "MONGO_PORT = 27017\n",
    "MONGO_DBNAME = 'OFFERS'\n",
    "MONGO_COLL_OTODOM = 'Otodom'\n",
    "MONGO_USERNAME = 'xflats'\n",
    "MONGO_PASSWORD = 'xflats'"
   ]
  },
  {
   "cell_type": "code",
   "execution_count": 3,
   "metadata": {},
   "outputs": [],
   "source": [
    "db = helpers.FilesMongo.set_connection(MONGO_ADDRESS, MONGO_PORT, MONGO_DBNAME, MONGO_COLL_OTODOM, MONGO_USERNAME, MONGO_PASSWORD)\n",
    "list_mongo = helpers.FilesMongo.list_files(db)\n"
   ]
  },
  {
   "cell_type": "code",
   "execution_count": 4,
   "metadata": {},
   "outputs": [],
   "source": [
    "target = ['price']\n",
    "\n",
    "col_numeric = ['flat_size', 'floor_attic','floor_basement', 'rooms', 'floor', 'rent_price',\n",
    "               'number_of_floors','year_of_building','GC_latitude','GC_longitude']\n",
    "\n",
    "col_cat = ['additional_info','market' ,'building_type', 'building_material', 'widows_type',\n",
    "          'heating_type', 'finishing_stage', 'property_form','GC_addr_postcode']\n",
    "\n",
    "col_text = ['name', 'location','description']\n",
    "\n",
    "OUT=['GC_boundingbox', 'GC_addr_house_number', 'GC_addr_road','GC_addr_neighbourhood', 'GC_addr_suburb',\n",
    "       'GC_addr_city','GC_addr_county', 'GC_addr_state', 'GC_addr_postcode',\n",
    "       'GC_addr_country', 'GC_addr_country_code', 'url', 'main_url']"
   ]
  },
  {
   "cell_type": "code",
   "execution_count": 5,
   "metadata": {},
   "outputs": [],
   "source": [
    "select = {}\n",
    "for i in target+col_numeric+col_cat+col_text:\n",
    "    select[i]=1\n"
   ]
  },
  {
   "cell_type": "code",
   "execution_count": 6,
   "metadata": {},
   "outputs": [],
   "source": [
    "files = [i for i in db.find({},select)]"
   ]
  },
  {
   "cell_type": "code",
   "execution_count": 7,
   "metadata": {},
   "outputs": [],
   "source": [
    "import numpy as np\n",
    "import pandas as pd\n",
    "\n",
    "np.random.seed(666)\n",
    "\n",
    "df = pd.DataFrame(files)\n",
    "df['fold']=np.random.choice(['train', 'test'],df.shape[0],p=[0.9, 0.1]).tolist()\n",
    "\n",
    "filter_query = \"price <= 1000000 and price >= 10000 and flat_size <= 130 and property_form != 'udział'\"\n",
    "df_train = df[df['fold']=='train'].dropna(subset = ['price']).query(filter_query).reset_index(drop=True)\n",
    "df_test = df[df['fold']=='test'].dropna(subset = ['price']).query(filter_query).reset_index(drop=True)\n"
   ]
  },
  {
   "cell_type": "code",
   "execution_count": 8,
   "metadata": {},
   "outputs": [],
   "source": [
    "params = {'colsample_bytree': 0.6624318354159208, #feature_fraction\n",
    " 'learning_rate': 0.15990411055449805,\n",
    " 'max_bin': 38712,\n",
    " 'max_depth': 7,\n",
    " 'min_child_samples': 84, #min_data_in_leaf\n",
    " 'min_child_weight': 6, #min_sum_hessian_in_leaf\n",
    " 'n_estimators': 206, #num_iterations\n",
    " 'num_leaves': 159,\n",
    " 'reg_alpha': 3.960667919705787e-06, #lambda_l1\n",
    " 'reg_lambda': 499.85995495490215, #lambda_l2\n",
    " 'subsample': 0.9022680042341511, #bagging_fraction\n",
    " 'subsample_for_bin': 144116, #bin_construct_sample_cnt\n",
    " 'subsample_freq': 0 #bagging_freq\n",
    "         } "
   ]
  },
  {
   "cell_type": "code",
   "execution_count": 9,
   "metadata": {},
   "outputs": [],
   "source": [
    "from sklearn.feature_extraction.text import TfidfVectorizer\n",
    "from sklearn.compose import ColumnTransformer\n",
    "from sklearn.pipeline import make_pipeline\n",
    "from sklearn.metrics import r2_score, median_absolute_error, mean_absolute_error\n",
    "\n",
    "import lightgbm as lgb"
   ]
  },
  {
   "cell_type": "code",
   "execution_count": 11,
   "metadata": {},
   "outputs": [],
   "source": [
    "np.random.seed(666)\n",
    "\n",
    "pipe_lgb = make_pipeline(\n",
    "    ColumnTransformer([\n",
    "        ('cat', helpers.transformColList(),col_cat),\n",
    "        ('num', helpers.PassThroughOrReplace(),col_numeric),\n",
    "        ('txt_dscr', TfidfVectorizer(lowercase=True, \n",
    "                               ngram_range=(1, 3), \n",
    "                               max_features=3000, \n",
    "                               dtype=np.float32,\n",
    "                               use_idf=True),'description'),\n",
    "        ('txt_loc', TfidfVectorizer(lowercase=True, \n",
    "                               ngram_range=(1,1), \n",
    "                               max_features=500, \n",
    "                               dtype=np.float32,\n",
    "                               binary = True, \n",
    "                               use_idf=False),'location'),\n",
    "        ('txt_name', TfidfVectorizer(lowercase=True, \n",
    "                               ngram_range=(1,1), \n",
    "                               max_features=500, \n",
    "                               dtype=np.float32,\n",
    "                               binary = True, \n",
    "                               use_idf=False),'name')\n",
    "    ]),\n",
    "    lgb.LGBMRegressor(**params, objective='regression_l2', random_state=666)\n",
    "    )"
   ]
  },
  {
   "cell_type": "code",
   "execution_count": 12,
   "metadata": {},
   "outputs": [
    {
     "name": "stdout",
     "output_type": "stream",
     "text": [
      "CPU times: user 2min 13s, sys: 8.95 s, total: 2min 22s\n",
      "Wall time: 2min 11s\n"
     ]
    }
   ],
   "source": [
    "%%time\n",
    "y_log = np.log1p( df_train.price.tolist())\n",
    "save = pipe_lgb.fit(df_train, y_log)"
   ]
  },
  {
   "cell_type": "code",
   "execution_count": 13,
   "metadata": {},
   "outputs": [
    {
     "name": "stdout",
     "output_type": "stream",
     "text": [
      "Train r2 score 0.9222, median absolute error 23580, mean absolute error 35463\n",
      "Test r2 score 0.8987, median absolute error 28108, mean absolute error 40922\n"
     ]
    }
   ],
   "source": [
    "#first pipe\n",
    "from sklearn.metrics import r2_score, median_absolute_error, mean_absolute_error, mean_squared_log_error\n",
    "\n",
    "y_pred = pipe_lgb.predict(df_train)\n",
    "y_pred = np.expm1(y_pred)\n",
    "\n",
    "r2 = r2_score(df_train.price, y_pred)\n",
    "med_abs_err = median_absolute_error(df_train.price, y_pred)\n",
    "mean_abs_err = mean_absolute_error(df_train.price, y_pred)\n",
    "print(\"Train r2 score {}, median absolute error {}, mean absolute error {}\".format(round(r2,4),int(med_abs_err), int(mean_abs_err)))\n",
    "\n",
    "y_pred = pipe_lgb.predict(df_test)\n",
    "y_pred = np.expm1(y_pred)\n",
    "\n",
    "r2 = r2_score(df_test.price, y_pred)\n",
    "med_abs_err = median_absolute_error(df_test.price, y_pred)\n",
    "mean_abs_err = mean_absolute_error(df_test.price, y_pred)\n",
    "\n",
    "print(\"Test r2 score {}, median absolute error {}, mean absolute error {}\".format(round(r2,4),int(med_abs_err), int(mean_abs_err)))\n"
   ]
  },
  {
   "cell_type": "code",
   "execution_count": 14,
   "metadata": {},
   "outputs": [],
   "source": [
    "import pickle\n",
    "\n",
    "pickle.dump(pipe_lgb, open('model.pkl','wb'))"
   ]
  }
 ],
 "metadata": {
  "kernelspec": {
   "display_name": "Python 3",
   "language": "python",
   "name": "python3"
  },
  "language_info": {
   "codemirror_mode": {
    "name": "ipython",
    "version": 3
   },
   "file_extension": ".py",
   "mimetype": "text/x-python",
   "name": "python",
   "nbconvert_exporter": "python",
   "pygments_lexer": "ipython3",
   "version": "3.7.4"
  },
  "toc": {
   "base_numbering": 1,
   "nav_menu": {},
   "number_sections": true,
   "sideBar": true,
   "skip_h1_title": false,
   "title_cell": "Table of Contents",
   "title_sidebar": "Contents",
   "toc_cell": false,
   "toc_position": {},
   "toc_section_display": true,
   "toc_window_display": false
  }
 },
 "nbformat": 4,
 "nbformat_minor": 2
}
