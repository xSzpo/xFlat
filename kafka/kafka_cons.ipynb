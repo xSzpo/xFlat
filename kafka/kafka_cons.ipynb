{
 "cells": [
  {
   "cell_type": "code",
   "execution_count": 1,
   "metadata": {},
   "outputs": [],
   "source": [
    "from pykafka import KafkaClient\n",
    "import json\n",
    "import bson\n",
    "from bson.json_util import dumps, loads"
   ]
  },
  {
   "cell_type": "code",
   "execution_count": 2,
   "metadata": {},
   "outputs": [],
   "source": [
    "client = KafkaClient(hosts=\"localhost:9092\")\n",
    "topic = client.topics['xflats']"
   ]
  },
  {
   "cell_type": "code",
   "execution_count": 3,
   "metadata": {},
   "outputs": [],
   "source": [
    "consumer = topic.get_simple_consumer()"
   ]
  },
  {
   "cell_type": "code",
   "execution_count": null,
   "metadata": {},
   "outputs": [],
   "source": [
    "msg = consumer.consume()\n"
   ]
  },
  {
   "cell_type": "code",
   "execution_count": 53,
   "metadata": {},
   "outputs": [],
   "source": [
    "msg = consumer.consume()\n",
    "json_data = bson.BSON.decode(loads(msg.value))"
   ]
  },
  {
   "cell_type": "code",
   "execution_count": 54,
   "metadata": {},
   "outputs": [
    {
     "data": {
      "text/plain": [
       "{'_id': '59793721_314000',\n",
       " 'GC_addr_city': 'Warszawa',\n",
       " 'GC_addr_country': 'RP',\n",
       " 'GC_addr_country_code': 'pl',\n",
       " 'GC_addr_county': 'Warszawa',\n",
       " 'GC_addr_house_number': '18',\n",
       " 'GC_addr_neighbourhood': 'Szczęśliwice',\n",
       " 'GC_addr_postcode': '02-366',\n",
       " 'GC_addr_road': 'Bitwy Warszawskiej 1920 roku',\n",
       " 'GC_addr_state': 'mazowieckie',\n",
       " 'GC_addr_suburb': 'Ochota',\n",
       " 'GC_boundingbox': '52.2145864,52.2152594,20.9664054,20.9676533',\n",
       " 'GC_latitude': 52.2143616,\n",
       " 'GC_longitude': 20.9670702,\n",
       " 'additional_info': [''],\n",
       " 'available_from': None,\n",
       " 'building_material': None,\n",
       " 'building_type': 'kamienica',\n",
       " 'description': 'Do sprzedaży 1-pokojowe mieszkanie o powierzchni 24 m2.\\nMieszkanie składa się z:\\n- Salonu\\n- Aneksu kuchennego\\n- Łazienki z WC\\nDo mieszkania przynależy piwnica, około 4,50 m2.\\nW mieszkaniu są zamontowane okna plastikowe.\\nTyp własności: Pełna własność, założona KW, grunty uregulowane, dzięki czemu podczas zakupu można posiłkować się kredytem.\\nŚwietna lokalizacja ceniona za otaczającą infrastrukturę i bliskość do centrum miasta nie całe 10 min.\\nW pobliżu zielony teren Parku Zachodniego, rekreacyjne tereny Mery i Parku Szczęśliwickiego, centrum handlowe Blue City i Reduta. Do tego świetne położenie komunikacyjne - Dworzec Zachodni, autobusy, tramwaje, PKP, PKS, WKD, lotnisko Chopina, droga ekspresowa S2.\\nTa nieruchomość na pewno nie będzie długo czekać na swojego nabywcę!\\nZapraszam na prezentacje mieszkania!\\nJestem do twojej despozycji codzienne od 8:00 do 23:00\\nWładysław Lubczyk\\nTel: 573408033',\n",
       " 'download_date': 1570289095,\n",
       " 'finishing_stage': None,\n",
       " 'flat_size': 24.0,\n",
       " 'floor': 1.0,\n",
       " 'floor_attic': 0,\n",
       " 'floor_basement': 0,\n",
       " 'heating_type': None,\n",
       " 'location': 'Warszawa, Ochota',\n",
       " 'main_url': 'otodom.pl',\n",
       " 'market': 'wtórny',\n",
       " 'name': 'Kamienica * Cisza * Do wprowadzenia',\n",
       " 'number_of_floors': 3.0,\n",
       " 'price': 314000.0,\n",
       " 'price_m2': 13083.0,\n",
       " 'property_form': None,\n",
       " 'rent_price': None,\n",
       " 'rooms': 1,\n",
       " 'tracking_id': 59793721,\n",
       " 'url': 'https://www.otodom.pl/oferta/kamienica-cisza-do-wprowadzenia-ID42T4R.html#65ef490b31',\n",
       " 'widows_type': None,\n",
       " 'year_of_building': 1960.0}"
      ]
     },
     "execution_count": 54,
     "metadata": {},
     "output_type": "execute_result"
    }
   ],
   "source": [
    "json_data"
   ]
  },
  {
   "cell_type": "code",
   "execution_count": 55,
   "metadata": {},
   "outputs": [
    {
     "name": "stdout",
     "output_type": "stream",
     "text": [
      "{\n",
      "  \"prediction\": [\n",
      "    294913.1828502046\n",
      "  ]\n",
      "}\n",
      "\n"
     ]
    }
   ],
   "source": [
    "import requests\n",
    "\n",
    "\n",
    "\n",
    "url = \"http://0.0.0.0:8080/predict\"\n",
    "\n",
    "#payload = \"[\\n {\\\"_id\\\": \\\"59686717_445000\\\",\\n \\\"flat_size\\\": 45.0,\\n \\\"location\\\": \\\"Warszawa, Praga-Północ, Siedlecka\\\",\\n \\\"price\\\": 445000.0,\\n \\\"rooms\\\": 2,\\n \\\"name\\\": \\\"Metro Szwedzka > cegła > po remoncie > 2 pokoje\\\",\\n \\\"market\\\": \\\"wtórny\\\",\\n \\\"building_type\\\": \\\"kamienica\\\",\\n \\\"floor\\\": 1.0,\\n \\\"number_of_floors\\\": 3.0,\\n \\\"building_material\\\": \\\"cegła\\\",\\n \\\"widows_type\\\": \\\"plastikowe\\\",\\n \\\"heating_type\\\": \\\"miejskie\\\",\\n \\\"year_of_building\\\": 1939.0,\\n \\\"finishing_stage\\\": null,\\n \\\"rent_price\\\": null,\\n \\\"property_form\\\": \\\"pełna własność\\\",\\n \\\"description\\\": \\\"Nieruchomość 45m2 - 2 pokoje\\\\nSalon - można w nim zaaranżować przestrzeń do wypoczynku i jadalnię. Kuchnia - jest sprytnie wydzielona od salonu wąską ścianą. Pokój - może posłużyć za sypialnie, posiada dużą loggie wychodzącą na zieleń. Łazienka - niewielka, ale urządzona nowocześnie i funkcjonalnie, jest w niej miejsce na pralkę. Hall - zmieści pojemną szafę. \\\\nMieszkanie jest dwustronne - ma bardzo dobrą cyrkulację powietrza. Ponadto ma  wysokość 280cm! \\\\nIstnieje możliwość montażu AGD po wcześniejszym uzgodnieniu. Pełna własność z księgą wieczystą. \\\\nBudynek\\\\nMieszkanie znajduje się w kamienicy z cegły. Ulokowane jest na 1 piętrze w budynku 3 piętrowym.\\\\nW budynku wymieniono instalacje wodno-kanalizacyjną i ogrzewanie. W przyszłości planowane są remont elewacji i klatki schodowej. \\\\nOkolica\\\\nMieszkanie jest dobrze skomunikowane z resztą miasta  \\\\n- Stacja Metro Szwedzka w budowie  -  13min pieszo\\\\n- Stacja Metro Dworzec Wileński - 17min pieszo\\\\n- przystanek Wojnicka - 3min pieszo\\\\nOkolica prężnie się rozwija, są tu liczne sklepy i galerie, restauracje i miejsca związane z kulturą. \\\\n- Centrum Praskie Koneser 10min\\\\n- Galeria Wileńska  -  15min pieszo \\\\n- malownicza ul.Ząbkowska 8min\\\\nWokół są również uczelnie\\\\n- SWPS Uniwersytet Humanistyczny\\\\n- Europejska Wyższa Szkoła Prawa i Administracji\\\\n- Wyższa Szkoła Menadżerska\\\\nMieszkanie znajduje się w szybko rozwijającej się okolicy dobrze skomunikowanej z resztą miasta. \\\\nPo generalnym remoncie, do wprowadzenia od zaraz! \\\\nZapraszam do oglądania!\\\\nAnastazja Leydo\\\\nTel. 515-879-368\\\\nKonsultant ds. nieruchomości\\\\nEteria Consulting \\\\nPowyższa oferta ma charakter informacyjny i nie stanowi oferty handlowej w rozumieniu art. 66 §1 Kodeksu Cywilnego.\\\",\\n \\\"additional_info\\\": [\\\"telewizja kablowa\\\",\\n  \\\"internet\\\",\\n  \\\"telefon\\\",\\n  \\\"balkon\\\",\\n  \\\"garaż/miejsce parkingowe\\\"],\\n \\\"GC_latitude\\\": 52.25772983,\\n \\\"GC_longitude\\\": 21.05405331,\\n \\\"GC_addr_postcode\\\": \\\"03-768\\\",\\n \\\"floor_attic\\\": 0,\\n \\\"floor_basement\\\": 0}\\n \\n]\"\n",
    "payload = \"[\"+json.dumps(json_data)+\"]\"\n",
    "headers = {\n",
    "    'Content-Type': \"application/json\",\n",
    "    'User-Agent': \"PostmanRuntime/7.17.1\",\n",
    "    'Accept': \"*/*\",\n",
    "    'Cache-Control': \"no-cache\",\n",
    "    'Postman-Token': \"868664d3-38a4-43d7-98b4-cec26d24b19d,534576e6-c478-42aa-9644-92777678c4e2\",\n",
    "    'Host': \"0.0.0.0:8080\",\n",
    "    'Accept-Encoding': \"gzip, deflate\",\n",
    "    'Content-Length': \"2565\",\n",
    "    'Connection': \"keep-alive\",\n",
    "    'cache-control': \"no-cache\"\n",
    "    }\n",
    "\n",
    "response = requests.request(\"POST\", url, data=payload.encode('utf-8'), headers=headers)\n",
    "\n",
    "print(response.text)"
   ]
  }
 ],
 "metadata": {
  "kernelspec": {
   "display_name": "Python 3",
   "language": "python",
   "name": "python3"
  },
  "language_info": {
   "codemirror_mode": {
    "name": "ipython",
    "version": 3
   },
   "file_extension": ".py",
   "mimetype": "text/x-python",
   "name": "python",
   "nbconvert_exporter": "python",
   "pygments_lexer": "ipython3",
   "version": "3.6.6"
  },
  "toc": {
   "base_numbering": 1,
   "nav_menu": {},
   "number_sections": true,
   "sideBar": true,
   "skip_h1_title": false,
   "title_cell": "Table of Contents",
   "title_sidebar": "Contents",
   "toc_cell": false,
   "toc_position": {},
   "toc_section_display": true,
   "toc_window_display": false
  }
 },
 "nbformat": 4,
 "nbformat_minor": 2
}
