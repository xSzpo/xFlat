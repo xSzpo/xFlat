{
 "cells": [
  {
   "cell_type": "code",
   "execution_count": 1,
   "metadata": {},
   "outputs": [],
   "source": [
    "import json\n",
    "import bson"
   ]
  },
  {
   "cell_type": "code",
   "execution_count": 2,
   "metadata": {},
   "outputs": [],
   "source": [
    "data = {\"gallery\": \"[{\\\"photo\\\":\\\"https:\\\\/\\\\/apollo-ireland.akamaized.net\\\\/v1\\\\/files\\\\/eyJmbiI6InZqZHNjaHR5dW05bTEtQVBMIiwidyI6W3siZm4iOiJqMWozbzEzbTZiZ24xLUFQTCIsInMiOiIxNCIsInAiOiIxMCwtMTAiLCJhIjoiMCJ9XX0.d5DhRKr1Q6_tM_cmJ6GrbUsUS7PbqchPXapwkwuQKOk\\\\/image;s=655x491;q=80\\\",\\\"thumb\\\":\\\"https:\\\\/\\\\/apollo-ireland.akamaized.net\\\\/v1\\\\/files\\\\/eyJmbiI6InZqZHNjaHR5dW05bTEtQVBMIiwidyI6W3siZm4iOiJqMWozbzEzbTZiZ24xLUFQTCIsInMiOiIxNCIsInAiOiIxMCwtMTAiLCJhIjoiMCJ9XX0.d5DhRKr1Q6_tM_cmJ6GrbUsUS7PbqchPXapwkwuQKOk\\\\/image;s=184x138;q=80\\\"},{\\\"photo\\\":\\\"https:\\\\/\\\\/apollo-ireland.akamaized.net\\\\/v1\\\\/files\\\\/eyJmbiI6InA2eW9lbGFyOW43ZzMtQVBMIiwidyI6W3siZm4iOiJqMWozbzEzbTZiZ24xLUFQTCIsInMiOiIxNCIsInAiOiIxMCwtMTAiLCJhIjoiMCJ9XX0.V-Os3nC6URkBhnXxCYQIvfzHBfi4qLWdMLDrn7IuJKI\\\\/image;s=655x491;q=80\\\",\\\"thumb\\\":\\\"https:\\\\/\\\\/apollo-ireland.akamaized.net\\\\/v1\\\\/files\\\\/eyJmbiI6InA2eW9lbGFyOW43ZzMtQVBMIiwidyI6W3siZm4iOiJqMWozbzEzbTZiZ24xLUFQTCIsInMiOiIxNCIsInAiOiIxMCwtMTAiLCJhIjoiMCJ9XX0.V-Os3nC6URkBhnXxCYQIvfzHBfi4qLWdMLDrn7IuJKI\\\\/image;s=184x138;q=80\\\"},{\\\"photo\\\":\\\"https:\\\\/\\\\/apollo-ireland.akamaized.net\\\\/v1\\\\/files\\\\/eyJmbiI6Im45cm1oZGtyYzN6Yy1BUEwiLCJ3IjpbeyJmbiI6ImoxajNvMTNtNmJnbjEtQVBMIiwicyI6IjE0IiwicCI6IjEwLC0xMCIsImEiOiIwIn1dfQ.ZK6IZi_CyDtJ_s49_V2F82FbTW0i5JxHSMjNNEI6Zd0\\\\/image;s=655x491;q=80\\\",\\\"thumb\\\":\\\"https:\\\\/\\\\/apollo-ireland.akamaized.net\\\\/v1\\\\/files\\\\/eyJmbiI6Im45cm1oZGtyYzN6Yy1BUEwiLCJ3IjpbeyJmbiI6ImoxajNvMTNtNmJnbjEtQVBMIiwicyI6IjE0IiwicCI6IjEwLC0xMCIsImEiOiIwIn1dfQ.ZK6IZi_CyDtJ_s49_V2F82FbTW0i5JxHSMjNNEI6Zd0\\\\/image;s=184x138;q=80\\\"},{\\\"photo\\\":\\\"https:\\\\/\\\\/apollo-ireland.akamaized.net\\\\/v1\\\\/files\\\\/eyJmbiI6ImVleWxqMWJrN2s1eDItQVBMIiwidyI6W3siZm4iOiJqMWozbzEzbTZiZ24xLUFQTCIsInMiOiIxNCIsInAiOiIxMCwtMTAiLCJhIjoiMCJ9XX0.Ro-ytyRTjhxuJ2tgQ4b9bWFcf0-nl0Gi6bn7lRoD4oA\\\\/image;s=655x491;q=80\\\",\\\"thumb\\\":\\\"https:\\\\/\\\\/apollo-ireland.akamaized.net\\\\/v1\\\\/files\\\\/eyJmbiI6ImVleWxqMWJrN2s1eDItQVBMIiwidyI6W3siZm4iOiJqMWozbzEzbTZiZ24xLUFQTCIsInMiOiIxNCIsInAiOiIxMCwtMTAiLCJhIjoiMCJ9XX0.Ro-ytyRTjhxuJ2tgQ4b9bWFcf0-nl0Gi6bn7lRoD4oA\\\\/image;s=184x138;q=80\\\"},{\\\"photo\\\":\\\"https:\\\\/\\\\/apollo-ireland.akamaized.net\\\\/v1\\\\/files\\\\/eyJmbiI6Ims5ZGkxY3I1YTc3cDEtQVBMIiwidyI6W3siZm4iOiJqMWozbzEzbTZiZ24xLUFQTCIsInMiOiIxNCIsInAiOiIxMCwtMTAiLCJhIjoiMCJ9XX0.LxZ7G2g5iNabRar2O_Jw7clS22VygL7c-B0DA-Bh3I8\\\\/image;s=655x491;q=80\\\",\\\"thumb\\\":\\\"https:\\\\/\\\\/apollo-ireland.akamaized.net\\\\/v1\\\\/files\\\\/eyJmbiI6Ims5ZGkxY3I1YTc3cDEtQVBMIiwidyI6W3siZm4iOiJqMWozbzEzbTZiZ24xLUFQTCIsInMiOiIxNCIsInAiOiIxMCwtMTAiLCJhIjoiMCJ9XX0.LxZ7G2g5iNabRar2O_Jw7clS22VygL7c-B0DA-Bh3I8\\\\/image;s=184x138;q=80\\\"},{\\\"photo\\\":\\\"https:\\\\/\\\\/apollo-ireland.akamaized.net\\\\/v1\\\\/files\\\\/eyJmbiI6Imw3cmw3czE3YmFnNjMtQVBMIiwidyI6W3siZm4iOiJqMWozbzEzbTZiZ24xLUFQTCIsInMiOiIxNCIsInAiOiIxMCwtMTAiLCJhIjoiMCJ9XX0.YGUUp74z8ggYa15P_oxAcs50kZ9YIHi7r1K9SgMEEyo\\\\/image;s=655x491;q=80\\\",\\\"thumb\\\":\\\"https:\\\\/\\\\/apollo-ireland.akamaized.net\\\\/v1\\\\/files\\\\/eyJmbiI6Imw3cmw3czE3YmFnNjMtQVBMIiwidyI6W3siZm4iOiJqMWozbzEzbTZiZ24xLUFQTCIsInMiOiIxNCIsInAiOiIxMCwtMTAiLCJhIjoiMCJ9XX0.YGUUp74z8ggYa15P_oxAcs50kZ9YIHi7r1K9SgMEEyo\\\\/image;s=184x138;q=80\\\"},{\\\"photo\\\":\\\"https:\\\\/\\\\/apollo-ireland.akamaized.net\\\\/v1\\\\/files\\\\/eyJmbiI6Ims4MnR3bDB2dXJzYTMtQVBMIiwidyI6W3siZm4iOiJqMWozbzEzbTZiZ24xLUFQTCIsInMiOiIxNCIsInAiOiIxMCwtMTAiLCJhIjoiMCJ9XX0.RP67ZjnDXnW7vtSXtQK9MIj993PcJSpWJAwWCZcd8Bo\\\\/image;s=655x491;q=80\\\",\\\"thumb\\\":\\\"https:\\\\/\\\\/apollo-ireland.akamaized.net\\\\/v1\\\\/files\\\\/eyJmbiI6Ims4MnR3bDB2dXJzYTMtQVBMIiwidyI6W3siZm4iOiJqMWozbzEzbTZiZ24xLUFQTCIsInMiOiIxNCIsInAiOiIxMCwtMTAiLCJhIjoiMCJ9XX0.RP67ZjnDXnW7vtSXtQK9MIj993PcJSpWJAwWCZcd8Bo\\\\/image;s=184x138;q=80\\\"},{\\\"photo\\\":\\\"https:\\\\/\\\\/apollo-ireland.akamaized.net\\\\/v1\\\\/files\\\\/eyJmbiI6ImlpdXl3bW1kdTQyODMtQVBMIiwidyI6W3siZm4iOiJqMWozbzEzbTZiZ24xLUFQTCIsInMiOiIxNCIsInAiOiIxMCwtMTAiLCJhIjoiMCJ9XX0.VR11kkF-cWDoaz8ZpQTQ26S4G-ynAhwl4AYfqc93s34\\\\/image;s=655x491;q=80\\\",\\\"thumb\\\":\\\"https:\\\\/\\\\/apollo-ireland.akamaized.net\\\\/v1\\\\/files\\\\/eyJmbiI6ImlpdXl3bW1kdTQyODMtQVBMIiwidyI6W3siZm4iOiJqMWozbzEzbTZiZ24xLUFQTCIsInMiOiIxNCIsInAiOiIxMCwtMTAiLCJhIjoiMCJ9XX0.VR11kkF-cWDoaz8ZpQTQ26S4G-ynAhwl4AYfqc93s34\\\\/image;s=184x138;q=80\\\"},{\\\"photo\\\":\\\"https:\\\\/\\\\/apollo-ireland.akamaized.net\\\\/v1\\\\/files\\\\/eyJmbiI6ImQ3MDUwM3piYjRxZzEtQVBMIiwidyI6W3siZm4iOiJqMWozbzEzbTZiZ24xLUFQTCIsInMiOiIxNCIsInAiOiIxMCwtMTAiLCJhIjoiMCJ9XX0.nbeUDBZX7XZ1bFfFGq2ESiREAt5gS6Uffxy5CtT8sCI\\\\/image;s=655x491;q=80\\\",\\\"thumb\\\":\\\"https:\\\\/\\\\/apollo-ireland.akamaized.net\\\\/v1\\\\/files\\\\/eyJmbiI6ImQ3MDUwM3piYjRxZzEtQVBMIiwidyI6W3siZm4iOiJqMWozbzEzbTZiZ24xLUFQTCIsInMiOiIxNCIsInAiOiIxMCwtMTAiLCJhIjoiMCJ9XX0.nbeUDBZX7XZ1bFfFGq2ESiREAt5gS6Uffxy5CtT8sCI\\\\/image;s=184x138;q=80\\\"},{\\\"photo\\\":\\\"https:\\\\/\\\\/apollo-ireland.akamaized.net\\\\/v1\\\\/files\\\\/eyJmbiI6ImF3ZXVmdjhvaHUyeS1BUEwiLCJ3IjpbeyJmbiI6ImoxajNvMTNtNmJnbjEtQVBMIiwicyI6IjE0IiwicCI6IjEwLC0xMCIsImEiOiIwIn1dfQ.uUTV_FV_ER_EFt5vHGPAM1PcF4NKEpTz4LHuVm9VIp4\\\\/image;s=655x491;q=80\\\",\\\"thumb\\\":\\\"https:\\\\/\\\\/apollo-ireland.akamaized.net\\\\/v1\\\\/files\\\\/eyJmbiI6ImF3ZXVmdjhvaHUyeS1BUEwiLCJ3IjpbeyJmbiI6ImoxajNvMTNtNmJnbjEtQVBMIiwicyI6IjE0IiwicCI6IjEwLC0xMCIsImEiOiIwIn1dfQ.uUTV_FV_ER_EFt5vHGPAM1PcF4NKEpTz4LHuVm9VIp4\\\\/image;s=184x138;q=80\\\"}]\", \"img_cover_title\": \"Mieszkanie na sprzeda\\u017c o powierzchni 147 m\\u00b2 - Warszawa, Wola - zdj\\u0119cie 1\", \"issued_by\": \"\\n                                            Oferta prywatna                                    \", \"offer_id\": \"3PrPV\", \"offer_title\": \"Apartament 147m2, ul. \\u017belazna 59\", \"price\": \"\\n                                                                                    1 599 000 z\\u0142                                                                                                                                \", \"tracking_id\": \"56590744\", \"type\": \"promo_top_ads\", \"url\": \"https://www.otodom.pl/oferta/apartament-147m2-ul-zelazna-59-ID3PrPV.html#c89760baae\", \"url_offer_list\": \"https://www.otodom.pl/sprzedaz/mieszkanie/warszawa/?nrAdsPerPage=72\", \"producer_name\": \"otodom\", \"main_url\": \"otodom.pl\"}\n",
    "data = str.encode(json.dumps(data))"
   ]
  },
  {
   "cell_type": "code",
   "execution_count": 3,
   "metadata": {},
   "outputs": [],
   "source": [
    "import kafka"
   ]
  },
  {
   "cell_type": "code",
   "execution_count": 6,
   "metadata": {},
   "outputs": [],
   "source": [
    "producer = kafka.KafkaProducer(bootstrap_servers='0.0.0.0:9092')"
   ]
  },
  {
   "cell_type": "code",
   "execution_count": 20,
   "metadata": {},
   "outputs": [
    {
     "data": {
      "text/plain": [
       "<kafka.producer.future.FutureRecordMetadata at 0x1111a17f0>"
      ]
     },
     "execution_count": 20,
     "metadata": {},
     "output_type": "execute_result"
    }
   ],
   "source": [
    "producer.send('xflats', data)"
   ]
  },
  {
   "cell_type": "code",
   "execution_count": 7,
   "metadata": {},
   "outputs": [],
   "source": [
    "from pykafka import KafkaClient"
   ]
  },
  {
   "cell_type": "code",
   "execution_count": 8,
   "metadata": {},
   "outputs": [],
   "source": [
    "client = KafkaClient(hosts=\"0.0.0.0:9092\")\n",
    "#client = KafkaClient(hosts=\"kafka:9092\")\n",
    "topic = client.topics['xflats']\n",
    "producer = topic.get_sync_producer()"
   ]
  },
  {
   "cell_type": "code",
   "execution_count": 9,
   "metadata": {},
   "outputs": [],
   "source": []
  },
  {
   "cell_type": "code",
   "execution_count": 12,
   "metadata": {},
   "outputs": [
    {
     "data": {
      "text/plain": [
       "<pykafka.protocol.message.Message at 0x103830d68>"
      ]
     },
     "execution_count": 12,
     "metadata": {},
     "output_type": "execute_result"
    }
   ],
   "source": [
    "\n",
    "\n",
    "producer.produce(data)"
   ]
  },
  {
   "cell_type": "code",
   "execution_count": 11,
   "metadata": {},
   "outputs": [
    {
     "data": {
      "text/plain": [
       "b'{\"gallery\": \"[{\\\\\"photo\\\\\":\\\\\"https:\\\\\\\\/\\\\\\\\/apollo-ireland.akamaized.net\\\\\\\\/v1\\\\\\\\/files\\\\\\\\/eyJmbiI6InZqZHNjaHR5dW05bTEtQVBMIiwidyI6W3siZm4iOiJqMWozbzEzbTZiZ24xLUFQTCIsInMiOiIxNCIsInAiOiIxMCwtMTAiLCJhIjoiMCJ9XX0.d5DhRKr1Q6_tM_cmJ6GrbUsUS7PbqchPXapwkwuQKOk\\\\\\\\/image;s=655x491;q=80\\\\\",\\\\\"thumb\\\\\":\\\\\"https:\\\\\\\\/\\\\\\\\/apollo-ireland.akamaized.net\\\\\\\\/v1\\\\\\\\/files\\\\\\\\/eyJmbiI6InZqZHNjaHR5dW05bTEtQVBMIiwidyI6W3siZm4iOiJqMWozbzEzbTZiZ24xLUFQTCIsInMiOiIxNCIsInAiOiIxMCwtMTAiLCJhIjoiMCJ9XX0.d5DhRKr1Q6_tM_cmJ6GrbUsUS7PbqchPXapwkwuQKOk\\\\\\\\/image;s=184x138;q=80\\\\\"},{\\\\\"photo\\\\\":\\\\\"https:\\\\\\\\/\\\\\\\\/apollo-ireland.akamaized.net\\\\\\\\/v1\\\\\\\\/files\\\\\\\\/eyJmbiI6InA2eW9lbGFyOW43ZzMtQVBMIiwidyI6W3siZm4iOiJqMWozbzEzbTZiZ24xLUFQTCIsInMiOiIxNCIsInAiOiIxMCwtMTAiLCJhIjoiMCJ9XX0.V-Os3nC6URkBhnXxCYQIvfzHBfi4qLWdMLDrn7IuJKI\\\\\\\\/image;s=655x491;q=80\\\\\",\\\\\"thumb\\\\\":\\\\\"https:\\\\\\\\/\\\\\\\\/apollo-ireland.akamaized.net\\\\\\\\/v1\\\\\\\\/files\\\\\\\\/eyJmbiI6InA2eW9lbGFyOW43ZzMtQVBMIiwidyI6W3siZm4iOiJqMWozbzEzbTZiZ24xLUFQTCIsInMiOiIxNCIsInAiOiIxMCwtMTAiLCJhIjoiMCJ9XX0.V-Os3nC6URkBhnXxCYQIvfzHBfi4qLWdMLDrn7IuJKI\\\\\\\\/image;s=184x138;q=80\\\\\"},{\\\\\"photo\\\\\":\\\\\"https:\\\\\\\\/\\\\\\\\/apollo-ireland.akamaized.net\\\\\\\\/v1\\\\\\\\/files\\\\\\\\/eyJmbiI6Im45cm1oZGtyYzN6Yy1BUEwiLCJ3IjpbeyJmbiI6ImoxajNvMTNtNmJnbjEtQVBMIiwicyI6IjE0IiwicCI6IjEwLC0xMCIsImEiOiIwIn1dfQ.ZK6IZi_CyDtJ_s49_V2F82FbTW0i5JxHSMjNNEI6Zd0\\\\\\\\/image;s=655x491;q=80\\\\\",\\\\\"thumb\\\\\":\\\\\"https:\\\\\\\\/\\\\\\\\/apollo-ireland.akamaized.net\\\\\\\\/v1\\\\\\\\/files\\\\\\\\/eyJmbiI6Im45cm1oZGtyYzN6Yy1BUEwiLCJ3IjpbeyJmbiI6ImoxajNvMTNtNmJnbjEtQVBMIiwicyI6IjE0IiwicCI6IjEwLC0xMCIsImEiOiIwIn1dfQ.ZK6IZi_CyDtJ_s49_V2F82FbTW0i5JxHSMjNNEI6Zd0\\\\\\\\/image;s=184x138;q=80\\\\\"},{\\\\\"photo\\\\\":\\\\\"https:\\\\\\\\/\\\\\\\\/apollo-ireland.akamaized.net\\\\\\\\/v1\\\\\\\\/files\\\\\\\\/eyJmbiI6ImVleWxqMWJrN2s1eDItQVBMIiwidyI6W3siZm4iOiJqMWozbzEzbTZiZ24xLUFQTCIsInMiOiIxNCIsInAiOiIxMCwtMTAiLCJhIjoiMCJ9XX0.Ro-ytyRTjhxuJ2tgQ4b9bWFcf0-nl0Gi6bn7lRoD4oA\\\\\\\\/image;s=655x491;q=80\\\\\",\\\\\"thumb\\\\\":\\\\\"https:\\\\\\\\/\\\\\\\\/apollo-ireland.akamaized.net\\\\\\\\/v1\\\\\\\\/files\\\\\\\\/eyJmbiI6ImVleWxqMWJrN2s1eDItQVBMIiwidyI6W3siZm4iOiJqMWozbzEzbTZiZ24xLUFQTCIsInMiOiIxNCIsInAiOiIxMCwtMTAiLCJhIjoiMCJ9XX0.Ro-ytyRTjhxuJ2tgQ4b9bWFcf0-nl0Gi6bn7lRoD4oA\\\\\\\\/image;s=184x138;q=80\\\\\"},{\\\\\"photo\\\\\":\\\\\"https:\\\\\\\\/\\\\\\\\/apollo-ireland.akamaized.net\\\\\\\\/v1\\\\\\\\/files\\\\\\\\/eyJmbiI6Ims5ZGkxY3I1YTc3cDEtQVBMIiwidyI6W3siZm4iOiJqMWozbzEzbTZiZ24xLUFQTCIsInMiOiIxNCIsInAiOiIxMCwtMTAiLCJhIjoiMCJ9XX0.LxZ7G2g5iNabRar2O_Jw7clS22VygL7c-B0DA-Bh3I8\\\\\\\\/image;s=655x491;q=80\\\\\",\\\\\"thumb\\\\\":\\\\\"https:\\\\\\\\/\\\\\\\\/apollo-ireland.akamaized.net\\\\\\\\/v1\\\\\\\\/files\\\\\\\\/eyJmbiI6Ims5ZGkxY3I1YTc3cDEtQVBMIiwidyI6W3siZm4iOiJqMWozbzEzbTZiZ24xLUFQTCIsInMiOiIxNCIsInAiOiIxMCwtMTAiLCJhIjoiMCJ9XX0.LxZ7G2g5iNabRar2O_Jw7clS22VygL7c-B0DA-Bh3I8\\\\\\\\/image;s=184x138;q=80\\\\\"},{\\\\\"photo\\\\\":\\\\\"https:\\\\\\\\/\\\\\\\\/apollo-ireland.akamaized.net\\\\\\\\/v1\\\\\\\\/files\\\\\\\\/eyJmbiI6Imw3cmw3czE3YmFnNjMtQVBMIiwidyI6W3siZm4iOiJqMWozbzEzbTZiZ24xLUFQTCIsInMiOiIxNCIsInAiOiIxMCwtMTAiLCJhIjoiMCJ9XX0.YGUUp74z8ggYa15P_oxAcs50kZ9YIHi7r1K9SgMEEyo\\\\\\\\/image;s=655x491;q=80\\\\\",\\\\\"thumb\\\\\":\\\\\"https:\\\\\\\\/\\\\\\\\/apollo-ireland.akamaized.net\\\\\\\\/v1\\\\\\\\/files\\\\\\\\/eyJmbiI6Imw3cmw3czE3YmFnNjMtQVBMIiwidyI6W3siZm4iOiJqMWozbzEzbTZiZ24xLUFQTCIsInMiOiIxNCIsInAiOiIxMCwtMTAiLCJhIjoiMCJ9XX0.YGUUp74z8ggYa15P_oxAcs50kZ9YIHi7r1K9SgMEEyo\\\\\\\\/image;s=184x138;q=80\\\\\"},{\\\\\"photo\\\\\":\\\\\"https:\\\\\\\\/\\\\\\\\/apollo-ireland.akamaized.net\\\\\\\\/v1\\\\\\\\/files\\\\\\\\/eyJmbiI6Ims4MnR3bDB2dXJzYTMtQVBMIiwidyI6W3siZm4iOiJqMWozbzEzbTZiZ24xLUFQTCIsInMiOiIxNCIsInAiOiIxMCwtMTAiLCJhIjoiMCJ9XX0.RP67ZjnDXnW7vtSXtQK9MIj993PcJSpWJAwWCZcd8Bo\\\\\\\\/image;s=655x491;q=80\\\\\",\\\\\"thumb\\\\\":\\\\\"https:\\\\\\\\/\\\\\\\\/apollo-ireland.akamaized.net\\\\\\\\/v1\\\\\\\\/files\\\\\\\\/eyJmbiI6Ims4MnR3bDB2dXJzYTMtQVBMIiwidyI6W3siZm4iOiJqMWozbzEzbTZiZ24xLUFQTCIsInMiOiIxNCIsInAiOiIxMCwtMTAiLCJhIjoiMCJ9XX0.RP67ZjnDXnW7vtSXtQK9MIj993PcJSpWJAwWCZcd8Bo\\\\\\\\/image;s=184x138;q=80\\\\\"},{\\\\\"photo\\\\\":\\\\\"https:\\\\\\\\/\\\\\\\\/apollo-ireland.akamaized.net\\\\\\\\/v1\\\\\\\\/files\\\\\\\\/eyJmbiI6ImlpdXl3bW1kdTQyODMtQVBMIiwidyI6W3siZm4iOiJqMWozbzEzbTZiZ24xLUFQTCIsInMiOiIxNCIsInAiOiIxMCwtMTAiLCJhIjoiMCJ9XX0.VR11kkF-cWDoaz8ZpQTQ26S4G-ynAhwl4AYfqc93s34\\\\\\\\/image;s=655x491;q=80\\\\\",\\\\\"thumb\\\\\":\\\\\"https:\\\\\\\\/\\\\\\\\/apollo-ireland.akamaized.net\\\\\\\\/v1\\\\\\\\/files\\\\\\\\/eyJmbiI6ImlpdXl3bW1kdTQyODMtQVBMIiwidyI6W3siZm4iOiJqMWozbzEzbTZiZ24xLUFQTCIsInMiOiIxNCIsInAiOiIxMCwtMTAiLCJhIjoiMCJ9XX0.VR11kkF-cWDoaz8ZpQTQ26S4G-ynAhwl4AYfqc93s34\\\\\\\\/image;s=184x138;q=80\\\\\"},{\\\\\"photo\\\\\":\\\\\"https:\\\\\\\\/\\\\\\\\/apollo-ireland.akamaized.net\\\\\\\\/v1\\\\\\\\/files\\\\\\\\/eyJmbiI6ImQ3MDUwM3piYjRxZzEtQVBMIiwidyI6W3siZm4iOiJqMWozbzEzbTZiZ24xLUFQTCIsInMiOiIxNCIsInAiOiIxMCwtMTAiLCJhIjoiMCJ9XX0.nbeUDBZX7XZ1bFfFGq2ESiREAt5gS6Uffxy5CtT8sCI\\\\\\\\/image;s=655x491;q=80\\\\\",\\\\\"thumb\\\\\":\\\\\"https:\\\\\\\\/\\\\\\\\/apollo-ireland.akamaized.net\\\\\\\\/v1\\\\\\\\/files\\\\\\\\/eyJmbiI6ImQ3MDUwM3piYjRxZzEtQVBMIiwidyI6W3siZm4iOiJqMWozbzEzbTZiZ24xLUFQTCIsInMiOiIxNCIsInAiOiIxMCwtMTAiLCJhIjoiMCJ9XX0.nbeUDBZX7XZ1bFfFGq2ESiREAt5gS6Uffxy5CtT8sCI\\\\\\\\/image;s=184x138;q=80\\\\\"},{\\\\\"photo\\\\\":\\\\\"https:\\\\\\\\/\\\\\\\\/apollo-ireland.akamaized.net\\\\\\\\/v1\\\\\\\\/files\\\\\\\\/eyJmbiI6ImF3ZXVmdjhvaHUyeS1BUEwiLCJ3IjpbeyJmbiI6ImoxajNvMTNtNmJnbjEtQVBMIiwicyI6IjE0IiwicCI6IjEwLC0xMCIsImEiOiIwIn1dfQ.uUTV_FV_ER_EFt5vHGPAM1PcF4NKEpTz4LHuVm9VIp4\\\\\\\\/image;s=655x491;q=80\\\\\",\\\\\"thumb\\\\\":\\\\\"https:\\\\\\\\/\\\\\\\\/apollo-ireland.akamaized.net\\\\\\\\/v1\\\\\\\\/files\\\\\\\\/eyJmbiI6ImF3ZXVmdjhvaHUyeS1BUEwiLCJ3IjpbeyJmbiI6ImoxajNvMTNtNmJnbjEtQVBMIiwicyI6IjE0IiwicCI6IjEwLC0xMCIsImEiOiIwIn1dfQ.uUTV_FV_ER_EFt5vHGPAM1PcF4NKEpTz4LHuVm9VIp4\\\\\\\\/image;s=184x138;q=80\\\\\"}]\", \"img_cover_title\": \"Mieszkanie na sprzeda\\\\u017c o powierzchni 147 m\\\\u00b2 - Warszawa, Wola - zdj\\\\u0119cie 1\", \"issued_by\": \"\\\\n                                            Oferta prywatna                                    \", \"offer_id\": \"3PrPV\", \"offer_title\": \"Apartament 147m2, ul. \\\\u017belazna 59\", \"price\": \"\\\\n                                                                                    1 599 000 z\\\\u0142                                                                                                                                \", \"tracking_id\": \"56590744\", \"type\": \"promo_top_ads\", \"url\": \"https://www.otodom.pl/oferta/apartament-147m2-ul-zelazna-59-ID3PrPV.html#c89760baae\", \"url_offer_list\": \"https://www.otodom.pl/sprzedaz/mieszkanie/warszawa/?nrAdsPerPage=72\", \"producer_name\": \"otodom\", \"main_url\": \"otodom.pl\"}'"
      ]
     },
     "execution_count": 11,
     "metadata": {},
     "output_type": "execute_result"
    }
   ],
   "source": [
    "data_b_"
   ]
  }
 ],
 "metadata": {
  "kernelspec": {
   "display_name": "Python 3",
   "language": "python",
   "name": "python3"
  },
  "language_info": {
   "codemirror_mode": {
    "name": "ipython",
    "version": 3
   },
   "file_extension": ".py",
   "mimetype": "text/x-python",
   "name": "python",
   "nbconvert_exporter": "python",
   "pygments_lexer": "ipython3",
   "version": "3.6.6"
  },
  "toc": {
   "base_numbering": 1,
   "nav_menu": {},
   "number_sections": true,
   "sideBar": true,
   "skip_h1_title": false,
   "title_cell": "Table of Contents",
   "title_sidebar": "Contents",
   "toc_cell": false,
   "toc_position": {},
   "toc_section_display": true,
   "toc_window_display": false
  }
 },
 "nbformat": 4,
 "nbformat_minor": 2
}
