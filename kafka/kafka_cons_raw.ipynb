{
 "cells": [
  {
   "cell_type": "code",
   "execution_count": 1,
   "metadata": {},
   "outputs": [],
   "source": [
    "from pykafka import KafkaClient\n",
    "import json\n",
    "import bson\n",
    "from bson.json_util import dumps, loads"
   ]
  },
  {
   "cell_type": "code",
   "execution_count": 2,
   "metadata": {},
   "outputs": [],
   "source": [
    "client = KafkaClient(hosts=\"localhost:9092\")\n",
    "topic = client.topics['xflats']"
   ]
  },
  {
   "cell_type": "code",
   "execution_count": 3,
   "metadata": {},
   "outputs": [],
   "source": [
    "consumer = topic.get_simple_consumer()"
   ]
  },
  {
   "cell_type": "code",
   "execution_count": 228,
   "metadata": {},
   "outputs": [
    {
     "data": {
      "text/plain": [
       "{'file_name': '59874339_795000',\n",
       " 'offer_title': 'Mieszkanie, 88,50 m², Warszawa',\n",
       " 'price': 795000.0,\n",
       " 'tracking_id': 59874339,\n",
       " 'url': 'https://www.otodom.pl/oferta/mieszkanie-88-50-m-warszawa-ID43e39.html#c89760baae',\n",
       " 'url_offer_list': 'https://www.otodom.pl/sprzedaz/mieszkanie/warszawa/',\n",
       " 'producer_name': 'otodom',\n",
       " 'main_url': 'otodom.pl',\n",
       " 'gallery': [{'photo': 'https://apollo-ireland.akamaized.net/v1/files/eyJmbiI6ImNwcmVyZXBtaXgwYy1BUEwiLCJ3IjpbeyJmbiI6ImoxajNvMTNtNmJnbjEtQVBMIiwicyI6IjE0IiwicCI6IjEwLC0xMCIsImEiOiIwIn1dfQ.oY91c9E5K69TAt6Kdwnl3pH5RxIoV-KAgaNLxvNL5qE/image;s=655x491;q=80',\n",
       "   'thumb': 'https://apollo-ireland.akamaized.net/v1/files/eyJmbiI6ImNwcmVyZXBtaXgwYy1BUEwiLCJ3IjpbeyJmbiI6ImoxajNvMTNtNmJnbjEtQVBMIiwicyI6IjE0IiwicCI6IjEwLC0xMCIsImEiOiIwIn1dfQ.oY91c9E5K69TAt6Kdwnl3pH5RxIoV-KAgaNLxvNL5qE/image;s=184x138;q=80'},\n",
       "  {'photo': 'https://apollo-ireland.akamaized.net/v1/files/eyJmbiI6ImZiNmd0eTh2OHk4NDEtQVBMIiwidyI6W3siZm4iOiJqMWozbzEzbTZiZ24xLUFQTCIsInMiOiIxNCIsInAiOiIxMCwtMTAiLCJhIjoiMCJ9XX0.n5V7-HQdngJF6y549THrU_xQMlocA0A6v0mjivFDzbs/image;s=655x491;q=80',\n",
       "   'thumb': 'https://apollo-ireland.akamaized.net/v1/files/eyJmbiI6ImZiNmd0eTh2OHk4NDEtQVBMIiwidyI6W3siZm4iOiJqMWozbzEzbTZiZ24xLUFQTCIsInMiOiIxNCIsInAiOiIxMCwtMTAiLCJhIjoiMCJ9XX0.n5V7-HQdngJF6y549THrU_xQMlocA0A6v0mjivFDzbs/image;s=184x138;q=80'},\n",
       "  {'photo': 'https://apollo-ireland.akamaized.net/v1/files/eyJmbiI6ImFyeHl2OXk1bDc0dDEtQVBMIiwidyI6W3siZm4iOiJqMWozbzEzbTZiZ24xLUFQTCIsInMiOiIxNCIsInAiOiIxMCwtMTAiLCJhIjoiMCJ9XX0.dA9lon4XLScPO0d9PKCBYm_X01eBQQuMh6WTgKbCj54/image;s=655x491;q=80',\n",
       "   'thumb': 'https://apollo-ireland.akamaized.net/v1/files/eyJmbiI6ImFyeHl2OXk1bDc0dDEtQVBMIiwidyI6W3siZm4iOiJqMWozbzEzbTZiZ24xLUFQTCIsInMiOiIxNCIsInAiOiIxMCwtMTAiLCJhIjoiMCJ9XX0.dA9lon4XLScPO0d9PKCBYm_X01eBQQuMh6WTgKbCj54/image;s=184x138;q=80'},\n",
       "  {'photo': 'https://apollo-ireland.akamaized.net/v1/files/eyJmbiI6Im84N20zdWQxaDY4cTMtQVBMIiwidyI6W3siZm4iOiJqMWozbzEzbTZiZ24xLUFQTCIsInMiOiIxNCIsInAiOiIxMCwtMTAiLCJhIjoiMCJ9XX0.UxStl3rM-bUlxTcR0NZZ_dehNIz3F3RQVFveCRMrT0A/image;s=655x491;q=80',\n",
       "   'thumb': 'https://apollo-ireland.akamaized.net/v1/files/eyJmbiI6Im84N20zdWQxaDY4cTMtQVBMIiwidyI6W3siZm4iOiJqMWozbzEzbTZiZ24xLUFQTCIsInMiOiIxNCIsInAiOiIxMCwtMTAiLCJhIjoiMCJ9XX0.UxStl3rM-bUlxTcR0NZZ_dehNIz3F3RQVFveCRMrT0A/image;s=184x138;q=80'},\n",
       "  {'photo': 'https://apollo-ireland.akamaized.net/v1/files/eyJmbiI6InBxeW5hMnB4dzJmMi1BUEwiLCJ3IjpbeyJmbiI6ImoxajNvMTNtNmJnbjEtQVBMIiwicyI6IjE0IiwicCI6IjEwLC0xMCIsImEiOiIwIn1dfQ.28bcp1K_Ukhue5924Eg3eQBUyKFjq1p5BRowRh_rihk/image;s=655x491;q=80',\n",
       "   'thumb': 'https://apollo-ireland.akamaized.net/v1/files/eyJmbiI6InBxeW5hMnB4dzJmMi1BUEwiLCJ3IjpbeyJmbiI6ImoxajNvMTNtNmJnbjEtQVBMIiwicyI6IjE0IiwicCI6IjEwLC0xMCIsImEiOiIwIn1dfQ.28bcp1K_Ukhue5924Eg3eQBUyKFjq1p5BRowRh_rihk/image;s=184x138;q=80'},\n",
       "  {'photo': 'https://apollo-ireland.akamaized.net/v1/files/eyJmbiI6Im9hZTljdTluMjlkbzItQVBMIiwidyI6W3siZm4iOiJqMWozbzEzbTZiZ24xLUFQTCIsInMiOiIxNCIsInAiOiIxMCwtMTAiLCJhIjoiMCJ9XX0.uYF5qY4RU6bD2r5h5sSMWnQOiQb5t3ja8YzUunHmzSI/image;s=655x491;q=80',\n",
       "   'thumb': 'https://apollo-ireland.akamaized.net/v1/files/eyJmbiI6Im9hZTljdTluMjlkbzItQVBMIiwidyI6W3siZm4iOiJqMWozbzEzbTZiZ24xLUFQTCIsInMiOiIxNCIsInAiOiIxMCwtMTAiLCJhIjoiMCJ9XX0.uYF5qY4RU6bD2r5h5sSMWnQOiQb5t3ja8YzUunHmzSI/image;s=184x138;q=80'},\n",
       "  {'photo': 'https://apollo-ireland.akamaized.net/v1/files/eyJmbiI6ImRzcm5renJsM2p0MDMtQVBMIiwidyI6W3siZm4iOiJqMWozbzEzbTZiZ24xLUFQTCIsInMiOiIxNCIsInAiOiIxMCwtMTAiLCJhIjoiMCJ9XX0.PbVQZnrS3CkbwTROKSgR97RyNjJ4k3-52t25e_TAbQM/image;s=655x491;q=80',\n",
       "   'thumb': 'https://apollo-ireland.akamaized.net/v1/files/eyJmbiI6ImRzcm5renJsM2p0MDMtQVBMIiwidyI6W3siZm4iOiJqMWozbzEzbTZiZ24xLUFQTCIsInMiOiIxNCIsInAiOiIxMCwtMTAiLCJhIjoiMCJ9XX0.PbVQZnrS3CkbwTROKSgR97RyNjJ4k3-52t25e_TAbQM/image;s=184x138;q=80'},\n",
       "  {'photo': 'https://apollo-ireland.akamaized.net/v1/files/eyJmbiI6ImRmZmV3NG1nN2huZDItQVBMIiwidyI6W3siZm4iOiJqMWozbzEzbTZiZ24xLUFQTCIsInMiOiIxNCIsInAiOiIxMCwtMTAiLCJhIjoiMCJ9XX0.54GGUzYhKhwelUwMkpAEdXsrYHeX6lsX_aWGq__BeOo/image;s=655x491;q=80',\n",
       "   'thumb': 'https://apollo-ireland.akamaized.net/v1/files/eyJmbiI6ImRmZmV3NG1nN2huZDItQVBMIiwidyI6W3siZm4iOiJqMWozbzEzbTZiZ24xLUFQTCIsInMiOiIxNCIsInAiOiIxMCwtMTAiLCJhIjoiMCJ9XX0.54GGUzYhKhwelUwMkpAEdXsrYHeX6lsX_aWGq__BeOo/image;s=184x138;q=80'}]}"
      ]
     },
     "execution_count": 228,
     "metadata": {},
     "output_type": "execute_result"
    }
   ],
   "source": [
    "msg = consumer.consume()\n",
    "json_data = loads(msg.value)\n",
    "json_data"
   ]
  },
  {
   "cell_type": "code",
   "execution_count": 8,
   "metadata": {},
   "outputs": [],
   "source": []
  }
 ],
 "metadata": {
  "kernelspec": {
   "display_name": "Python 3",
   "language": "python",
   "name": "python3"
  },
  "language_info": {
   "codemirror_mode": {
    "name": "ipython",
    "version": 3
   },
   "file_extension": ".py",
   "mimetype": "text/x-python",
   "name": "python",
   "nbconvert_exporter": "python",
   "pygments_lexer": "ipython3",
   "version": "3.6.6"
  },
  "toc": {
   "base_numbering": 1,
   "nav_menu": {},
   "number_sections": true,
   "sideBar": true,
   "skip_h1_title": false,
   "title_cell": "Table of Contents",
   "title_sidebar": "Contents",
   "toc_cell": false,
   "toc_position": {},
   "toc_section_display": true,
   "toc_window_display": false
  }
 },
 "nbformat": 4,
 "nbformat_minor": 2
}
