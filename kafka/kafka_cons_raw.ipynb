{
 "cells": [
  {
   "cell_type": "code",
   "execution_count": 8,
   "metadata": {},
   "outputs": [],
   "source": [
    "from kafka import KafkaConsumer"
   ]
  },
  {
   "cell_type": "code",
   "execution_count": 9,
   "metadata": {},
   "outputs": [],
   "source": [
    "consumer = KafkaConsumer('Otodom',bootstrap_servers=\"0.0.0.0:9092\")"
   ]
  },
  {
   "cell_type": "code",
   "execution_count": 10,
   "metadata": {},
   "outputs": [
    {
     "name": "stdout",
     "output_type": "stream",
     "text": [
      "b'{\"gallery\": \"[{\\\\\"photo\\\\\":\\\\\"https:\\\\\\\\/\\\\\\\\/apollo-ireland.akamaized.net\\\\\\\\/v1\\\\\\\\/files\\\\\\\\/eyJmbiI6InZqZHNjaHR5dW05bTEtQVBMIiwidyI6W3siZm4iOiJqMWozbzEzbTZiZ24xLUFQTCIsInMiOiIxNCIsInAiOiIxMCwtMTAiLCJhIjoiMCJ9XX0.d5DhRKr1Q6_tM_cmJ6GrbUsUS7PbqchPXapwkwuQKOk\\\\\\\\/image;s=655x491;q=80\\\\\",\\\\\"thumb\\\\\":\\\\\"https:\\\\\\\\/\\\\\\\\/apollo-ireland.akamaized.net\\\\\\\\/v1\\\\\\\\/files\\\\\\\\/eyJmbiI6InZqZHNjaHR5dW05bTEtQVBMIiwidyI6W3siZm4iOiJqMWozbzEzbTZiZ24xLUFQTCIsInMiOiIxNCIsInAiOiIxMCwtMTAiLCJhIjoiMCJ9XX0.d5DhRKr1Q6_tM_cmJ6GrbUsUS7PbqchPXapwkwuQKOk\\\\\\\\/image;s=184x138;q=80\\\\\"},{\\\\\"photo\\\\\":\\\\\"https:\\\\\\\\/\\\\\\\\/apollo-ireland.akamaized.net\\\\\\\\/v1\\\\\\\\/files\\\\\\\\/eyJmbiI6InA2eW9lbGFyOW43ZzMtQVBMIiwidyI6W3siZm4iOiJqMWozbzEzbTZiZ24xLUFQTCIsInMiOiIxNCIsInAiOiIxMCwtMTAiLCJhIjoiMCJ9XX0.V-Os3nC6URkBhnXxCYQIvfzHBfi4qLWdMLDrn7IuJKI\\\\\\\\/image;s=655x491;q=80\\\\\",\\\\\"thumb\\\\\":\\\\\"https:\\\\\\\\/\\\\\\\\/apollo-ireland.akamaized.net\\\\\\\\/v1\\\\\\\\/files\\\\\\\\/eyJmbiI6InA2eW9lbGFyOW43ZzMtQVBMIiwidyI6W3siZm4iOiJqMWozbzEzbTZiZ24xLUFQTCIsInMiOiIxNCIsInAiOiIxMCwtMTAiLCJhIjoiMCJ9XX0.V-Os3nC6URkBhnXxCYQIvfzHBfi4qLWdMLDrn7IuJKI\\\\\\\\/image;s=184x138;q=80\\\\\"},{\\\\\"photo\\\\\":\\\\\"https:\\\\\\\\/\\\\\\\\/apollo-ireland.akamaized.net\\\\\\\\/v1\\\\\\\\/files\\\\\\\\/eyJmbiI6Im45cm1oZGtyYzN6Yy1BUEwiLCJ3IjpbeyJmbiI6ImoxajNvMTNtNmJnbjEtQVBMIiwicyI6IjE0IiwicCI6IjEwLC0xMCIsImEiOiIwIn1dfQ.ZK6IZi_CyDtJ_s49_V2F82FbTW0i5JxHSMjNNEI6Zd0\\\\\\\\/image;s=655x491;q=80\\\\\",\\\\\"thumb\\\\\":\\\\\"https:\\\\\\\\/\\\\\\\\/apollo-ireland.akamaized.net\\\\\\\\/v1\\\\\\\\/files\\\\\\\\/eyJmbiI6Im45cm1oZGtyYzN6Yy1BUEwiLCJ3IjpbeyJmbiI6ImoxajNvMTNtNmJnbjEtQVBMIiwicyI6IjE0IiwicCI6IjEwLC0xMCIsImEiOiIwIn1dfQ.ZK6IZi_CyDtJ_s49_V2F82FbTW0i5JxHSMjNNEI6Zd0\\\\\\\\/image;s=184x138;q=80\\\\\"},{\\\\\"photo\\\\\":\\\\\"https:\\\\\\\\/\\\\\\\\/apollo-ireland.akamaized.net\\\\\\\\/v1\\\\\\\\/files\\\\\\\\/eyJmbiI6ImVleWxqMWJrN2s1eDItQVBMIiwidyI6W3siZm4iOiJqMWozbzEzbTZiZ24xLUFQTCIsInMiOiIxNCIsInAiOiIxMCwtMTAiLCJhIjoiMCJ9XX0.Ro-ytyRTjhxuJ2tgQ4b9bWFcf0-nl0Gi6bn7lRoD4oA\\\\\\\\/image;s=655x491;q=80\\\\\",\\\\\"thumb\\\\\":\\\\\"https:\\\\\\\\/\\\\\\\\/apollo-ireland.akamaized.net\\\\\\\\/v1\\\\\\\\/files\\\\\\\\/eyJmbiI6ImVleWxqMWJrN2s1eDItQVBMIiwidyI6W3siZm4iOiJqMWozbzEzbTZiZ24xLUFQTCIsInMiOiIxNCIsInAiOiIxMCwtMTAiLCJhIjoiMCJ9XX0.Ro-ytyRTjhxuJ2tgQ4b9bWFcf0-nl0Gi6bn7lRoD4oA\\\\\\\\/image;s=184x138;q=80\\\\\"},{\\\\\"photo\\\\\":\\\\\"https:\\\\\\\\/\\\\\\\\/apollo-ireland.akamaized.net\\\\\\\\/v1\\\\\\\\/files\\\\\\\\/eyJmbiI6Ims5ZGkxY3I1YTc3cDEtQVBMIiwidyI6W3siZm4iOiJqMWozbzEzbTZiZ24xLUFQTCIsInMiOiIxNCIsInAiOiIxMCwtMTAiLCJhIjoiMCJ9XX0.LxZ7G2g5iNabRar2O_Jw7clS22VygL7c-B0DA-Bh3I8\\\\\\\\/image;s=655x491;q=80\\\\\",\\\\\"thumb\\\\\":\\\\\"https:\\\\\\\\/\\\\\\\\/apollo-ireland.akamaized.net\\\\\\\\/v1\\\\\\\\/files\\\\\\\\/eyJmbiI6Ims5ZGkxY3I1YTc3cDEtQVBMIiwidyI6W3siZm4iOiJqMWozbzEzbTZiZ24xLUFQTCIsInMiOiIxNCIsInAiOiIxMCwtMTAiLCJhIjoiMCJ9XX0.LxZ7G2g5iNabRar2O_Jw7clS22VygL7c-B0DA-Bh3I8\\\\\\\\/image;s=184x138;q=80\\\\\"},{\\\\\"photo\\\\\":\\\\\"https:\\\\\\\\/\\\\\\\\/apollo-ireland.akamaized.net\\\\\\\\/v1\\\\\\\\/files\\\\\\\\/eyJmbiI6Imw3cmw3czE3YmFnNjMtQVBMIiwidyI6W3siZm4iOiJqMWozbzEzbTZiZ24xLUFQTCIsInMiOiIxNCIsInAiOiIxMCwtMTAiLCJhIjoiMCJ9XX0.YGUUp74z8ggYa15P_oxAcs50kZ9YIHi7r1K9SgMEEyo\\\\\\\\/image;s=655x491;q=80\\\\\",\\\\\"thumb\\\\\":\\\\\"https:\\\\\\\\/\\\\\\\\/apollo-ireland.akamaized.net\\\\\\\\/v1\\\\\\\\/files\\\\\\\\/eyJmbiI6Imw3cmw3czE3YmFnNjMtQVBMIiwidyI6W3siZm4iOiJqMWozbzEzbTZiZ24xLUFQTCIsInMiOiIxNCIsInAiOiIxMCwtMTAiLCJhIjoiMCJ9XX0.YGUUp74z8ggYa15P_oxAcs50kZ9YIHi7r1K9SgMEEyo\\\\\\\\/image;s=184x138;q=80\\\\\"},{\\\\\"photo\\\\\":\\\\\"https:\\\\\\\\/\\\\\\\\/apollo-ireland.akamaized.net\\\\\\\\/v1\\\\\\\\/files\\\\\\\\/eyJmbiI6Ims4MnR3bDB2dXJzYTMtQVBMIiwidyI6W3siZm4iOiJqMWozbzEzbTZiZ24xLUFQTCIsInMiOiIxNCIsInAiOiIxMCwtMTAiLCJhIjoiMCJ9XX0.RP67ZjnDXnW7vtSXtQK9MIj993PcJSpWJAwWCZcd8Bo\\\\\\\\/image;s=655x491;q=80\\\\\",\\\\\"thumb\\\\\":\\\\\"https:\\\\\\\\/\\\\\\\\/apollo-ireland.akamaized.net\\\\\\\\/v1\\\\\\\\/files\\\\\\\\/eyJmbiI6Ims4MnR3bDB2dXJzYTMtQVBMIiwidyI6W3siZm4iOiJqMWozbzEzbTZiZ24xLUFQTCIsInMiOiIxNCIsInAiOiIxMCwtMTAiLCJhIjoiMCJ9XX0.RP67ZjnDXnW7vtSXtQK9MIj993PcJSpWJAwWCZcd8Bo\\\\\\\\/image;s=184x138;q=80\\\\\"},{\\\\\"photo\\\\\":\\\\\"https:\\\\\\\\/\\\\\\\\/apollo-ireland.akamaized.net\\\\\\\\/v1\\\\\\\\/files\\\\\\\\/eyJmbiI6ImlpdXl3bW1kdTQyODMtQVBMIiwidyI6W3siZm4iOiJqMWozbzEzbTZiZ24xLUFQTCIsInMiOiIxNCIsInAiOiIxMCwtMTAiLCJhIjoiMCJ9XX0.VR11kkF-cWDoaz8ZpQTQ26S4G-ynAhwl4AYfqc93s34\\\\\\\\/image;s=655x491;q=80\\\\\",\\\\\"thumb\\\\\":\\\\\"https:\\\\\\\\/\\\\\\\\/apollo-ireland.akamaized.net\\\\\\\\/v1\\\\\\\\/files\\\\\\\\/eyJmbiI6ImlpdXl3bW1kdTQyODMtQVBMIiwidyI6W3siZm4iOiJqMWozbzEzbTZiZ24xLUFQTCIsInMiOiIxNCIsInAiOiIxMCwtMTAiLCJhIjoiMCJ9XX0.VR11kkF-cWDoaz8ZpQTQ26S4G-ynAhwl4AYfqc93s34\\\\\\\\/image;s=184x138;q=80\\\\\"},{\\\\\"photo\\\\\":\\\\\"https:\\\\\\\\/\\\\\\\\/apollo-ireland.akamaized.net\\\\\\\\/v1\\\\\\\\/files\\\\\\\\/eyJmbiI6ImQ3MDUwM3piYjRxZzEtQVBMIiwidyI6W3siZm4iOiJqMWozbzEzbTZiZ24xLUFQTCIsInMiOiIxNCIsInAiOiIxMCwtMTAiLCJhIjoiMCJ9XX0.nbeUDBZX7XZ1bFfFGq2ESiREAt5gS6Uffxy5CtT8sCI\\\\\\\\/image;s=655x491;q=80\\\\\",\\\\\"thumb\\\\\":\\\\\"https:\\\\\\\\/\\\\\\\\/apollo-ireland.akamaized.net\\\\\\\\/v1\\\\\\\\/files\\\\\\\\/eyJmbiI6ImQ3MDUwM3piYjRxZzEtQVBMIiwidyI6W3siZm4iOiJqMWozbzEzbTZiZ24xLUFQTCIsInMiOiIxNCIsInAiOiIxMCwtMTAiLCJhIjoiMCJ9XX0.nbeUDBZX7XZ1bFfFGq2ESiREAt5gS6Uffxy5CtT8sCI\\\\\\\\/image;s=184x138;q=80\\\\\"},{\\\\\"photo\\\\\":\\\\\"https:\\\\\\\\/\\\\\\\\/apollo-ireland.akamaized.net\\\\\\\\/v1\\\\\\\\/files\\\\\\\\/eyJmbiI6ImF3ZXVmdjhvaHUyeS1BUEwiLCJ3IjpbeyJmbiI6ImoxajNvMTNtNmJnbjEtQVBMIiwicyI6IjE0IiwicCI6IjEwLC0xMCIsImEiOiIwIn1dfQ.uUTV_FV_ER_EFt5vHGPAM1PcF4NKEpTz4LHuVm9VIp4\\\\\\\\/image;s=655x491;q=80\\\\\",\\\\\"thumb\\\\\":\\\\\"https:\\\\\\\\/\\\\\\\\/apollo-ireland.akamaized.net\\\\\\\\/v1\\\\\\\\/files\\\\\\\\/eyJmbiI6ImF3ZXVmdjhvaHUyeS1BUEwiLCJ3IjpbeyJmbiI6ImoxajNvMTNtNmJnbjEtQVBMIiwicyI6IjE0IiwicCI6IjEwLC0xMCIsImEiOiIwIn1dfQ.uUTV_FV_ER_EFt5vHGPAM1PcF4NKEpTz4LHuVm9VIp4\\\\\\\\/image;s=184x138;q=80\\\\\"}]\", \"img_cover_title\": \"Mieszkanie na sprzeda\\\\u017c o powierzchni 147 m\\\\u00b2 - Warszawa, Wola - zdj\\\\u0119cie 1\", \"issued_by\": \"\\\\n                                            Oferta prywatna                                    \", \"offer_id\": \"3PrPV\", \"offer_title\": \"Apartament 147m2, ul. \\\\u017belazna 59\", \"price\": \"\\\\n                                                                                    1 599 000 z\\\\u0142                                                                                                                                \", \"tracking_id\": \"56590744\", \"type\": \"promo_top_ads\", \"url\": \"https://www.otodom.pl/oferta/apartament-147m2-ul-zelazna-59-ID3PrPV.html#c89760baae\", \"url_offer_list\": \"https://www.otodom.pl/sprzedaz/mieszkanie/warszawa/?nrAdsPerPage=72\", \"producer_name\": \"otodom\", \"main_url\": \"otodom.pl\"}'\n"
     ]
    }
   ],
   "source": [
    "for msg in consumer:\n",
    "    print (msg.value)\n",
    "    break"
   ]
  },
  {
   "cell_type": "code",
   "execution_count": 21,
   "metadata": {},
   "outputs": [],
   "source": [
    "from pykafka import KafkaClient\n",
    "import json\n",
    "import bson\n",
    "from bson.json_util import dumps, loads"
   ]
  },
  {
   "cell_type": "code",
   "execution_count": 22,
   "metadata": {},
   "outputs": [],
   "source": [
    "client = KafkaClient(hosts=\"localhost:9092\")\n",
    "topic = client.topics['xflats']"
   ]
  },
  {
   "cell_type": "code",
   "execution_count": 23,
   "metadata": {},
   "outputs": [],
   "source": [
    "consumer = topic.get_simple_consumer()"
   ]
  },
  {
   "cell_type": "code",
   "execution_count": 24,
   "metadata": {},
   "outputs": [
    {
     "data": {
      "text/plain": [
       "{'file_name': '59839341_738000',\n",
       " 'offer_title': 'Metro 300m, 3 pokoje, ponad 80m2 pow całkowitej',\n",
       " 'price': 738000.0,\n",
       " 'tracking_id': 59839341,\n",
       " 'url': 'https://www.otodom.pl/oferta/metro-300m-3-pokoje-ponad-80m2-pow-calkowitej-ID434VF.html#c89760baae',\n",
       " 'url_offer_list': 'https://www.otodom.pl/sprzedaz/mieszkanie/warszawa/',\n",
       " 'producer_name': 'otodom',\n",
       " 'main_url': 'otodom.pl',\n",
       " 'gallery': [{'photo': 'https://apollo-ireland.akamaized.net/v1/files/eyJmbiI6InZnMjRsZjlmZXN1czItQVBMIiwidyI6W3siZm4iOiJqMWozbzEzbTZiZ24xLUFQTCIsInMiOiIxNCIsInAiOiIxMCwtMTAiLCJhIjoiMCJ9XX0.PHphbiVnsejgrXtuTqe5AQDBqYqbrKbMj5bc0b9RcDY/image;s=655x491;q=80',\n",
       "   'thumb': 'https://apollo-ireland.akamaized.net/v1/files/eyJmbiI6InZnMjRsZjlmZXN1czItQVBMIiwidyI6W3siZm4iOiJqMWozbzEzbTZiZ24xLUFQTCIsInMiOiIxNCIsInAiOiIxMCwtMTAiLCJhIjoiMCJ9XX0.PHphbiVnsejgrXtuTqe5AQDBqYqbrKbMj5bc0b9RcDY/image;s=184x138;q=80'},\n",
       "  {'photo': 'https://apollo-ireland.akamaized.net/v1/files/eyJmbiI6IjJqcWlqbTkzNTFybjMtQVBMIiwidyI6W3siZm4iOiJqMWozbzEzbTZiZ24xLUFQTCIsInMiOiIxNCIsInAiOiIxMCwtMTAiLCJhIjoiMCJ9XX0.LhkO1YJSvYiLr5hrMmqaK03JKVDX22Vo4FBWLjyaPSk/image;s=655x491;q=80',\n",
       "   'thumb': 'https://apollo-ireland.akamaized.net/v1/files/eyJmbiI6IjJqcWlqbTkzNTFybjMtQVBMIiwidyI6W3siZm4iOiJqMWozbzEzbTZiZ24xLUFQTCIsInMiOiIxNCIsInAiOiIxMCwtMTAiLCJhIjoiMCJ9XX0.LhkO1YJSvYiLr5hrMmqaK03JKVDX22Vo4FBWLjyaPSk/image;s=184x138;q=80'},\n",
       "  {'photo': 'https://apollo-ireland.akamaized.net/v1/files/eyJmbiI6Ing1aGtyMWkxb3NteTItQVBMIiwidyI6W3siZm4iOiJqMWozbzEzbTZiZ24xLUFQTCIsInMiOiIxNCIsInAiOiIxMCwtMTAiLCJhIjoiMCJ9XX0.bRXzA4k5lBXrQfl2P2_JtgMO3ROtmY3YmKxJprYSAXU/image;s=655x491;q=80',\n",
       "   'thumb': 'https://apollo-ireland.akamaized.net/v1/files/eyJmbiI6Ing1aGtyMWkxb3NteTItQVBMIiwidyI6W3siZm4iOiJqMWozbzEzbTZiZ24xLUFQTCIsInMiOiIxNCIsInAiOiIxMCwtMTAiLCJhIjoiMCJ9XX0.bRXzA4k5lBXrQfl2P2_JtgMO3ROtmY3YmKxJprYSAXU/image;s=184x138;q=80'},\n",
       "  {'photo': 'https://apollo-ireland.akamaized.net/v1/files/eyJmbiI6Im0wa295NmtlcDIzMTEtQVBMIiwidyI6W3siZm4iOiJqMWozbzEzbTZiZ24xLUFQTCIsInMiOiIxNCIsInAiOiIxMCwtMTAiLCJhIjoiMCJ9XX0.oW2tM4U4aHBe-VxJtnx2yy-qhvtVcVsMyZyy32dB_pE/image;s=655x491;q=80',\n",
       "   'thumb': 'https://apollo-ireland.akamaized.net/v1/files/eyJmbiI6Im0wa295NmtlcDIzMTEtQVBMIiwidyI6W3siZm4iOiJqMWozbzEzbTZiZ24xLUFQTCIsInMiOiIxNCIsInAiOiIxMCwtMTAiLCJhIjoiMCJ9XX0.oW2tM4U4aHBe-VxJtnx2yy-qhvtVcVsMyZyy32dB_pE/image;s=184x138;q=80'},\n",
       "  {'photo': 'https://apollo-ireland.akamaized.net/v1/files/eyJmbiI6InB0aXcxY2ZramgyaDMtQVBMIiwidyI6W3siZm4iOiJqMWozbzEzbTZiZ24xLUFQTCIsInMiOiIxNCIsInAiOiIxMCwtMTAiLCJhIjoiMCJ9XX0.qWj8pTcGn8xeEv2dbmA8pl2tfMuo5FE34HvxhiIGs3I/image;s=655x491;q=80',\n",
       "   'thumb': 'https://apollo-ireland.akamaized.net/v1/files/eyJmbiI6InB0aXcxY2ZramgyaDMtQVBMIiwidyI6W3siZm4iOiJqMWozbzEzbTZiZ24xLUFQTCIsInMiOiIxNCIsInAiOiIxMCwtMTAiLCJhIjoiMCJ9XX0.qWj8pTcGn8xeEv2dbmA8pl2tfMuo5FE34HvxhiIGs3I/image;s=184x138;q=80'},\n",
       "  {'photo': 'https://apollo-ireland.akamaized.net/v1/files/eyJmbiI6Im5saXowcHdhZWw3by1BUEwiLCJ3IjpbeyJmbiI6ImoxajNvMTNtNmJnbjEtQVBMIiwicyI6IjE0IiwicCI6IjEwLC0xMCIsImEiOiIwIn1dfQ.uQjtMpQ94nQWUYQSrntW2gixFzVSSDSu3bJDPkExumE/image;s=655x491;q=80',\n",
       "   'thumb': 'https://apollo-ireland.akamaized.net/v1/files/eyJmbiI6Im5saXowcHdhZWw3by1BUEwiLCJ3IjpbeyJmbiI6ImoxajNvMTNtNmJnbjEtQVBMIiwicyI6IjE0IiwicCI6IjEwLC0xMCIsImEiOiIwIn1dfQ.uQjtMpQ94nQWUYQSrntW2gixFzVSSDSu3bJDPkExumE/image;s=184x138;q=80'},\n",
       "  {'photo': 'https://apollo-ireland.akamaized.net/v1/files/eyJmbiI6IjN0NW16a2I4bDh5czMtQVBMIiwidyI6W3siZm4iOiJqMWozbzEzbTZiZ24xLUFQTCIsInMiOiIxNCIsInAiOiIxMCwtMTAiLCJhIjoiMCJ9XX0.FVHMOjQCR9jPhDWAjYftYStL_bwarYnBIdeDMYz4CrQ/image;s=655x491;q=80',\n",
       "   'thumb': 'https://apollo-ireland.akamaized.net/v1/files/eyJmbiI6IjN0NW16a2I4bDh5czMtQVBMIiwidyI6W3siZm4iOiJqMWozbzEzbTZiZ24xLUFQTCIsInMiOiIxNCIsInAiOiIxMCwtMTAiLCJhIjoiMCJ9XX0.FVHMOjQCR9jPhDWAjYftYStL_bwarYnBIdeDMYz4CrQ/image;s=184x138;q=80'},\n",
       "  {'photo': 'https://apollo-ireland.akamaized.net/v1/files/eyJmbiI6InMxbzIwczZhc2ZneC1BUEwiLCJ3IjpbeyJmbiI6ImoxajNvMTNtNmJnbjEtQVBMIiwicyI6IjE0IiwicCI6IjEwLC0xMCIsImEiOiIwIn1dfQ.kRHqDThKhktdje9QHfAdjMVU3VxUOiwiWQYeBYkXhMk/image;s=655x491;q=80',\n",
       "   'thumb': 'https://apollo-ireland.akamaized.net/v1/files/eyJmbiI6InMxbzIwczZhc2ZneC1BUEwiLCJ3IjpbeyJmbiI6ImoxajNvMTNtNmJnbjEtQVBMIiwicyI6IjE0IiwicCI6IjEwLC0xMCIsImEiOiIwIn1dfQ.kRHqDThKhktdje9QHfAdjMVU3VxUOiwiWQYeBYkXhMk/image;s=184x138;q=80'},\n",
       "  {'photo': 'https://apollo-ireland.akamaized.net/v1/files/eyJmbiI6IjA1MHVpNWZuaGR5YjEtQVBMIiwidyI6W3siZm4iOiJqMWozbzEzbTZiZ24xLUFQTCIsInMiOiIxNCIsInAiOiIxMCwtMTAiLCJhIjoiMCJ9XX0.O3Z2XWioPWh5rduJaV7aEC2lRrGJCLKIz7dtmyTEELE/image;s=655x491;q=80',\n",
       "   'thumb': 'https://apollo-ireland.akamaized.net/v1/files/eyJmbiI6IjA1MHVpNWZuaGR5YjEtQVBMIiwidyI6W3siZm4iOiJqMWozbzEzbTZiZ24xLUFQTCIsInMiOiIxNCIsInAiOiIxMCwtMTAiLCJhIjoiMCJ9XX0.O3Z2XWioPWh5rduJaV7aEC2lRrGJCLKIz7dtmyTEELE/image;s=184x138;q=80'},\n",
       "  {'photo': 'https://apollo-ireland.akamaized.net/v1/files/eyJmbiI6IjJocWk1MDlmem94ejEtQVBMIiwidyI6W3siZm4iOiJqMWozbzEzbTZiZ24xLUFQTCIsInMiOiIxNCIsInAiOiIxMCwtMTAiLCJhIjoiMCJ9XX0.VjiRLc2F4Xfld87jL2l6V0qU-1yL_pCfRIJUpMD29Vc/image;s=655x491;q=80',\n",
       "   'thumb': 'https://apollo-ireland.akamaized.net/v1/files/eyJmbiI6IjJocWk1MDlmem94ejEtQVBMIiwidyI6W3siZm4iOiJqMWozbzEzbTZiZ24xLUFQTCIsInMiOiIxNCIsInAiOiIxMCwtMTAiLCJhIjoiMCJ9XX0.VjiRLc2F4Xfld87jL2l6V0qU-1yL_pCfRIJUpMD29Vc/image;s=184x138;q=80'}]}"
      ]
     },
     "execution_count": 24,
     "metadata": {},
     "output_type": "execute_result"
    }
   ],
   "source": [
    "msg = consumer.consume()\n",
    "json_data = loads(msg.value)\n",
    "json_data"
   ]
  },
  {
   "cell_type": "code",
   "execution_count": 8,
   "metadata": {},
   "outputs": [],
   "source": []
  }
 ],
 "metadata": {
  "kernelspec": {
   "display_name": "Python 3",
   "language": "python",
   "name": "python3"
  },
  "language_info": {
   "codemirror_mode": {
    "name": "ipython",
    "version": 3
   },
   "file_extension": ".py",
   "mimetype": "text/x-python",
   "name": "python",
   "nbconvert_exporter": "python",
   "pygments_lexer": "ipython3",
   "version": "3.6.6"
  },
  "toc": {
   "base_numbering": 1,
   "nav_menu": {},
   "number_sections": true,
   "sideBar": true,
   "skip_h1_title": false,
   "title_cell": "Table of Contents",
   "title_sidebar": "Contents",
   "toc_cell": false,
   "toc_position": {},
   "toc_section_display": true,
   "toc_window_display": false
  }
 },
 "nbformat": 4,
 "nbformat_minor": 2
}
