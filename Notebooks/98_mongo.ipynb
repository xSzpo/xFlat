{
 "cells": [
  {
   "cell_type": "code",
   "execution_count": 1,
   "metadata": {},
   "outputs": [],
   "source": [
    "import codecs\n",
    "import sys\n",
    "import os"
   ]
  },
  {
   "cell_type": "code",
   "execution_count": 2,
   "metadata": {},
   "outputs": [],
   "source": [
    "sys.path.append(\"/Users/xszpo/Google Drive/DataScience/Projects/201907_xFlat_AWS_Scrapy/app_webscr_otodom\")\n",
    "import helpers as helpers\n",
    "\n",
    "# run scrapy settings\n",
    "%run /Users/xszpo/Google\\ Drive/DataScience/Projects/201907_xFlat_AWS_Scrapy/app_webscr_otodom/scraper/settings.py\n"
   ]
  },
  {
   "cell_type": "code",
   "execution_count": 6,
   "metadata": {},
   "outputs": [],
   "source": [
    "import pymongo\n",
    "from pymongo.errors import ConnectionFailure, ServerSelectionTimeoutError\n",
    "\n",
    "class Mongo:\n",
    "    \"\"\"\n",
    "    MongoDB methods\n",
    "    \"\"\"\n",
    "\n",
    "    def __init__(self,\n",
    "                 db_address='localhost',\n",
    "                 db_port=27017,\n",
    "                 db_username= '',\n",
    "                 db_password=''\n",
    "                 ):\n",
    "        self.db_address = db_address\n",
    "        self.db_port = db_port\n",
    "        self.db_username = db_username\n",
    "        self.db_password = db_password\n",
    "        \n",
    "\n",
    "    def mongodb_conn(self):\n",
    "        \"\"\"\n",
    "        https://www.programiz.com/python-programming/property\n",
    "        :return:\n",
    "            pymongo conetion\n",
    "        \"\"\"\n",
    "\n",
    "        try:\n",
    "            conn = pymongo.MongoClient(self.db_address, self.db_port, serverSelectionTimeoutMS=5000)\n",
    "            logger.info(\"Connected to MongoDB {}, address: {}:{}\".format(conn.server_info()['version'],\n",
    "                        self.db_address, self.db_port))\n",
    "            return conn\n",
    "\n",
    "        except (ConnectionFailure, ServerSelectionTimeoutError) as e:\n",
    "            logger.error(\"pymongo.errors, Could not connect to server: %s\" % e)\n",
    "\n",
    "        except BaseException as e:\n",
    "            logger.error(\"BaseException, something went wrong: %s\" % e)\n"
   ]
  },
  {
   "cell_type": "code",
   "execution_count": 7,
   "metadata": {},
   "outputs": [
    {
     "data": {
      "text/plain": [
       "dict_keys(['__name__', '__doc__', '__package__', '__loader__', '__spec__', '__builtin__', '__builtins__', '_ih', '_oh', '_dh', 'In', 'Out', 'get_ipython', 'exit', 'quit', '_', '__', '___', '_i', '_ii', '_iii', '_i1', 'codecs', 'sys', 'os', '_i2', 'helpers', '__nonzero__', 'BOT_NAME', 'MAX_PAGES', 'SAVE_RESULTS', 'LOCAL_DATA_PATH', 'LOCAL_DATA_PATH_PREP', 'LOCAL_DATA_PATH_DICT', 'BUCKET_NAME', 'BUCKET_PREFIX_BSON', 'MONGO_ADDRESS', 'MONGO_PORT', 'MONGO_DBNAME', 'MONGO_COLL_OTODOM', 'MONGO_USERNAME', 'MONGO_PASSWORD', 'DOWNLOAD_IMAGES', 'SPIDER_MODULES', 'NEWSPIDER_MODULE', 'LOG_ENABLE', 'LOG_LEVEL', 'ROBOTSTXT_OBEY', 'DOWNLOAD_DELAY', 'RANDOMIZE_DOWNLOAD_DELAY', 'CONCURRENT_REQUESTS', 'COOKIES_ENABLED', '_i3', '_3', '_i4', '_4', '_i5', '_i6', 'pymongo', 'ConnectionFailure', 'ServerSelectionTimeoutError', 'Mongo', '_i7'])"
      ]
     },
     "execution_count": 7,
     "metadata": {},
     "output_type": "execute_result"
    }
   ],
   "source": [
    "globals().keys()\n"
   ]
  },
  {
   "cell_type": "code",
   "execution_count": 8,
   "metadata": {},
   "outputs": [
    {
     "data": {
      "text/plain": [
       "'Otodom'"
      ]
     },
     "execution_count": 8,
     "metadata": {},
     "output_type": "execute_result"
    }
   ],
   "source": [
    "MONGO_COLL_OTODOM"
   ]
  },
  {
   "cell_type": "code",
   "execution_count": 9,
   "metadata": {},
   "outputs": [],
   "source": [
    "client = pymongo.MongoClient(host=MONGO_ADDRESS, port=MONGO_PORT,\n",
    "                             username=MONGO_USERNAME,\n",
    "                             password=MONGO_PASSWORD,\n",
    "                             authSource='admin',\n",
    "                             authMechanism='SCRAM-SHA-256')"
   ]
  },
  {
   "cell_type": "code",
   "execution_count": 13,
   "metadata": {},
   "outputs": [],
   "source": [
    "db = client[MONGO_DBNAME][MONGO_COLL_OTODOM]"
   ]
  },
  {
   "cell_type": "code",
   "execution_count": 24,
   "metadata": {},
   "outputs": [
    {
     "data": {
      "text/plain": [
       "Collection(Database(MongoClient(host=['localhost:27017'], document_class=dict, tz_aware=False, connect=True, authsource='admin', authmechanism='SCRAM-SHA-256'), 'OFFERS'), 'Otodom')"
      ]
     },
     "execution_count": 24,
     "metadata": {},
     "output_type": "execute_result"
    }
   ],
   "source": [
    "db"
   ]
  },
  {
   "cell_type": "code",
   "execution_count": 27,
   "metadata": {},
   "outputs": [],
   "source": [
    "db.drop({})"
   ]
  },
  {
   "cell_type": "code",
   "execution_count": 33,
   "metadata": {},
   "outputs": [
    {
     "data": {
      "text/plain": [
       "['_id_']"
      ]
     },
     "execution_count": 33,
     "metadata": {},
     "output_type": "execute_result"
    }
   ],
   "source": [
    "[i for i in db.index_information()]"
   ]
  },
  {
   "cell_type": "code",
   "execution_count": 30,
   "metadata": {},
   "outputs": [
    {
     "data": {
      "text/plain": [
       "<pymongo.results.InsertOneResult at 0x10f4ce348>"
      ]
     },
     "execution_count": 30,
     "metadata": {},
     "output_type": "execute_result"
    }
   ],
   "source": [
    "db.insert_one({})"
   ]
  },
  {
   "cell_type": "code",
   "execution_count": 32,
   "metadata": {},
   "outputs": [
    {
     "data": {
      "text/plain": [
       "[{'_id': ObjectId('5d834c18eea4f1b1aaa16480')}]"
      ]
     },
     "execution_count": 32,
     "metadata": {},
     "output_type": "execute_result"
    }
   ],
   "source": [
    "[i for i in db.find({})]"
   ]
  },
  {
   "cell_type": "code",
   "execution_count": 18,
   "metadata": {},
   "outputs": [
    {
     "ename": "TypeError",
     "evalue": "'Collection' object is not callable. If you meant to call the 'getIndexes' method on a 'Collection' object it is failing because no such method exists.",
     "output_type": "error",
     "traceback": [
      "\u001b[0;31m---------------------------------------------------------------------------\u001b[0m",
      "\u001b[0;31mTypeError\u001b[0m                                 Traceback (most recent call last)",
      "\u001b[0;32m<ipython-input-18-2df217aa72ee>\u001b[0m in \u001b[0;36m<module>\u001b[0;34m()\u001b[0m\n\u001b[0;32m----> 1\u001b[0;31m \u001b[0mdb\u001b[0m\u001b[0;34m.\u001b[0m\u001b[0mpeople\u001b[0m\u001b[0;34m.\u001b[0m\u001b[0mgetIndexes\u001b[0m\u001b[0;34m(\u001b[0m\u001b[0;34m)\u001b[0m\u001b[0;34m\u001b[0m\u001b[0m\n\u001b[0m",
      "\u001b[0;32m~/anaconda3/lib/python3.6/site-packages/pymongo/collection.py\u001b[0m in \u001b[0;36m__call__\u001b[0;34m(self, *args, **kwargs)\u001b[0m\n\u001b[1;32m   3354\u001b[0m                         \u001b[0;34m\"call the '%s' method on a 'Collection' object it is \"\u001b[0m\u001b[0;34m\u001b[0m\u001b[0m\n\u001b[1;32m   3355\u001b[0m                         \u001b[0;34m\"failing because no such method exists.\"\u001b[0m \u001b[0;34m%\u001b[0m\u001b[0;34m\u001b[0m\u001b[0m\n\u001b[0;32m-> 3356\u001b[0;31m                         self.__name.split(\".\")[-1])\n\u001b[0m",
      "\u001b[0;31mTypeError\u001b[0m: 'Collection' object is not callable. If you meant to call the 'getIndexes' method on a 'Collection' object it is failing because no such method exists."
     ]
    }
   ],
   "source": [
    "db.people.getIndexes()\n"
   ]
  },
  {
   "cell_type": "code",
   "execution_count": null,
   "metadata": {},
   "outputs": [],
   "source": [
    "        db_conn = db.mongodb_conn()\n",
    "        db_database = db_conn[self.mongodb_database]\n",
    "        db_table = db_database[self.mongodb_table]"
   ]
  }
 ],
 "metadata": {
  "kernelspec": {
   "display_name": "Python 3",
   "language": "python",
   "name": "python3"
  },
  "language_info": {
   "codemirror_mode": {
    "name": "ipython",
    "version": 3
   },
   "file_extension": ".py",
   "mimetype": "text/x-python",
   "name": "python",
   "nbconvert_exporter": "python",
   "pygments_lexer": "ipython3",
   "version": "3.6.6"
  },
  "toc": {
   "base_numbering": 1,
   "nav_menu": {},
   "number_sections": true,
   "sideBar": true,
   "skip_h1_title": false,
   "title_cell": "Table of Contents",
   "title_sidebar": "Contents",
   "toc_cell": false,
   "toc_position": {},
   "toc_section_display": true,
   "toc_window_display": false
  }
 },
 "nbformat": 4,
 "nbformat_minor": 2
}
