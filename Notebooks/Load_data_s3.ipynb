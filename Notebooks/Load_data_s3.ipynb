{
 "cells": [
  {
   "cell_type": "code",
   "execution_count": 1,
   "metadata": {
    "scrolled": true
   },
   "outputs": [
    {
     "data": {
      "text/plain": [
       "{'a': 1, 'b': 2, 'd': 1}"
      ]
     },
     "execution_count": 1,
     "metadata": {},
     "output_type": "execute_result"
    }
   ],
   "source": [
    "import json\n",
    "\n",
    "from PIL import Image\n",
    "import PIL\n",
    "from io import BytesIO\n",
    "from functools import reduce\n",
    "\n",
    "\n",
    "def open_img_from_str(str_img):\n",
    "    try:\n",
    "        return Image.open(BytesIO(str_img))\n",
    "    except BaseException:\n",
    "        return None\n",
    "    \n",
    "def dict_except(dictionary, except_keys = [], include_keys = None):\n",
    "    temp = {}\n",
    "    for key in dictionary:\n",
    "        if key not in except_keys:\n",
    "            if include_keys is None:\n",
    "                temp[key]=dictionary[key]\n",
    "            else:\n",
    "                if key in include_keys:\n",
    "                    temp[key]=dictionary[key]\n",
    "    return temp\n",
    "    \n",
    "\n",
    "def add_dict(dict_list):\n",
    "    return reduce(lambda x,y: dict(x, **y), dict_list)\n",
    "\n",
    "dict_except({'a':1, 'b':2,'c':4},except_keys = ['a'], include_keys = ['b'])\n",
    "add_dict([{'a':1,'b':2}, {'d':1}])"
   ]
  },
  {
   "cell_type": "code",
   "execution_count": 2,
   "metadata": {},
   "outputs": [
    {
     "data": {
      "text/plain": [
       "3353"
      ]
     },
     "execution_count": 2,
     "metadata": {},
     "output_type": "execute_result"
    }
   ],
   "source": [
    "import boto3\n",
    "import bson\n",
    "from bson.json_util import dumps, loads\n",
    "\n",
    "\n",
    "\n",
    "s3 = boto3.resource('s3')\n",
    "client = boto3.client('s3')\n",
    "\n",
    "bucket = s3.Bucket('31b179a9-539e-4d1d-9686-3136fe76b662')\n",
    "prefix = 'offers_bson_new/'\n",
    "list_files_in_offers_list = [i.key[len(prefix):] for i in bucket.objects.filter(Prefix=prefix)]\n",
    "list_paths_in_offers_list = [i.key for i in bucket.objects.filter(Prefix=prefix)]\n",
    "\n",
    "len(list_paths_in_offers_list)\n"
   ]
  },
  {
   "cell_type": "code",
   "execution_count": null,
   "metadata": {
    "scrolled": false
   },
   "outputs": [],
   "source": [
    "nbr = -1\n",
    "file = client.get_object(Bucket='31b179a9-539e-4d1d-9686-3136fe76b662', Key=prefix+list_files_in_offers_list[nbr])['Body'].read()\n",
    "\n",
    "d=bson.BSON.decode(loads(file))\n",
    "\n",
    "dict_except(d, except_keys=['gallery','img_gallery_strimg'])"
   ]
  },
  {
   "cell_type": "code",
   "execution_count": null,
   "metadata": {},
   "outputs": [],
   "source": [
    "print(d['description'])"
   ]
  },
  {
   "cell_type": "code",
   "execution_count": null,
   "metadata": {},
   "outputs": [],
   "source": [
    "open_img_from_str(d['img_gallery_strimg'][0])"
   ]
  }
 ],
 "metadata": {
  "kernelspec": {
   "display_name": "aws_scrapy",
   "language": "python",
   "name": "aws_scrapy"
  },
  "language_info": {
   "codemirror_mode": {
    "name": "ipython",
    "version": 3
   },
   "file_extension": ".py",
   "mimetype": "text/x-python",
   "name": "python",
   "nbconvert_exporter": "python",
   "pygments_lexer": "ipython3",
   "version": "3.7.3"
  },
  "toc": {
   "base_numbering": 1,
   "nav_menu": {},
   "number_sections": true,
   "sideBar": true,
   "skip_h1_title": false,
   "title_cell": "Table of Contents",
   "title_sidebar": "Contents",
   "toc_cell": false,
   "toc_position": {},
   "toc_section_display": true,
   "toc_window_display": false
  }
 },
 "nbformat": 4,
 "nbformat_minor": 2
}
