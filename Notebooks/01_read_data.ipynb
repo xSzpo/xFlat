{
 "cells": [
  {
   "cell_type": "code",
   "execution_count": 1,
   "metadata": {},
   "outputs": [],
   "source": [
    "import codecs\n",
    "import sys\n",
    "import os\n",
    "import logging\n",
    "import pymongo\n",
    "\n",
    "logger = logging.getLogger(__name__)\n",
    "\n",
    "sys.path.append(\"/Users/xszpo/Google Drive/DataScience/Projects/201907_xFlat_AWS_Scrapy/app_webscr_otodom\")\n",
    "import helpers as helpers\n",
    "\n",
    "# run scrapy settings\n",
    "%run /Users/xszpo/Google\\ Drive/DataScience/Projects/201907_xFlat_AWS_Scrapy/app_webscr_otodom/scraper/settings.py\n"
   ]
  },
  {
   "cell_type": "code",
   "execution_count": 2,
   "metadata": {},
   "outputs": [],
   "source": [
    "NEW = \"59723535_1495000\"\n",
    "OLD = \"22524703_650000\""
   ]
  },
  {
   "cell_type": "code",
   "execution_count": 3,
   "metadata": {},
   "outputs": [
    {
     "data": {
      "text/plain": [
       "dict_keys(['__name__', '__doc__', '__package__', '__loader__', '__spec__', '__builtin__', '__builtins__', '_ih', '_oh', '_dh', 'In', 'Out', 'get_ipython', 'exit', 'quit', '_', '__', '___', '_i', '_ii', '_iii', '_i1', 'codecs', 'sys', 'os', 'logging', 'pymongo', 'logger', 'helpers', '__nonzero__', 'BOT_NAME', 'MAX_PAGES', 'SAVE_RESULTS', 'LOCAL_DATA_PATH', 'LOCAL_DATA_PATH_PREP', 'LOCAL_DATA_PATH_DICT', 'BUCKET_NAME', 'BUCKET_PREFIX_BSON', 'MONGO_ADDRESS', 'MONGO_PORT', 'MONGO_DBNAME', 'MONGO_COLL_OTODOM', 'MONGO_USERNAME', 'MONGO_PASSWORD', 'DOWNLOAD_IMAGES', 'SPIDER_MODULES', 'NEWSPIDER_MODULE', 'LOG_ENABLE', 'LOG_LEVEL', 'ROBOTSTXT_OBEY', 'DOWNLOAD_DELAY', 'RANDOMIZE_DOWNLOAD_DELAY', 'CONCURRENT_REQUESTS', 'COOKIES_ENABLED', '_i2', 'NEW', 'OLD', '_i3'])"
      ]
     },
     "execution_count": 3,
     "metadata": {},
     "output_type": "execute_result"
    }
   ],
   "source": [
    "globals().keys()"
   ]
  },
  {
   "cell_type": "markdown",
   "metadata": {},
   "source": [
    "# local"
   ]
  },
  {
   "cell_type": "code",
   "execution_count": 4,
   "metadata": {},
   "outputs": [],
   "source": [
    "loc_lista = helpers.FilesLocal.list_files(LOCAL_DATA_PATH)\n",
    "loc_old = helpers.FilesLocal.read_file(LOCAL_DATA_PATH, OLD)\n",
    "loc_new = helpers.FilesLocal.read_file(LOCAL_DATA_PATH, NEW)\n"
   ]
  },
  {
   "cell_type": "code",
   "execution_count": 5,
   "metadata": {},
   "outputs": [
    {
     "data": {
      "text/plain": [
       "19893"
      ]
     },
     "execution_count": 5,
     "metadata": {},
     "output_type": "execute_result"
    }
   ],
   "source": [
    "len(loc_lista)"
   ]
  },
  {
   "cell_type": "code",
   "execution_count": 6,
   "metadata": {},
   "outputs": [
    {
     "data": {
      "text/plain": [
       "['GC_addr_city',\n",
       " 'GC_addr_country',\n",
       " 'GC_addr_country_code',\n",
       " 'GC_addr_county',\n",
       " 'GC_addr_house_number',\n",
       " 'GC_addr_neighbourhood',\n",
       " 'GC_addr_postcode',\n",
       " 'GC_addr_road',\n",
       " 'GC_addr_state',\n",
       " 'GC_addr_suburb',\n",
       " 'GC_boundingbox',\n",
       " 'GC_latitude',\n",
       " 'GC_longitude',\n",
       " '_id',\n",
       " 'additional_info',\n",
       " 'available_from',\n",
       " 'building_material',\n",
       " 'building_type',\n",
       " 'description',\n",
       " 'download_date',\n",
       " 'finishing_stage',\n",
       " 'flat_size',\n",
       " 'floor',\n",
       " 'floor_attic',\n",
       " 'floor_basement',\n",
       " 'gallery',\n",
       " 'heating_type',\n",
       " 'img_gallery_strimg',\n",
       " 'location',\n",
       " 'main_url',\n",
       " 'market',\n",
       " 'name',\n",
       " 'number_of_floors',\n",
       " 'price',\n",
       " 'price_m2',\n",
       " 'property_form',\n",
       " 'rent_price',\n",
       " 'rooms',\n",
       " 'tracking_id',\n",
       " 'url',\n",
       " 'widows_type',\n",
       " 'year_of_building']"
      ]
     },
     "execution_count": 6,
     "metadata": {},
     "output_type": "execute_result"
    }
   ],
   "source": [
    "sorted(loc_old.keys())"
   ]
  },
  {
   "cell_type": "code",
   "execution_count": 7,
   "metadata": {
    "scrolled": false
   },
   "outputs": [
    {
     "data": {
      "text/plain": [
       "['GC_addr_city',\n",
       " 'GC_addr_country',\n",
       " 'GC_addr_country_code',\n",
       " 'GC_addr_county',\n",
       " 'GC_addr_house_number',\n",
       " 'GC_addr_neighbourhood',\n",
       " 'GC_addr_postcode',\n",
       " 'GC_addr_road',\n",
       " 'GC_addr_state',\n",
       " 'GC_addr_suburb',\n",
       " 'GC_boundingbox',\n",
       " 'GC_latitude',\n",
       " 'GC_longitude',\n",
       " '_id',\n",
       " 'additional_info',\n",
       " 'available_from',\n",
       " 'building_material',\n",
       " 'building_type',\n",
       " 'description',\n",
       " 'download_date',\n",
       " 'finishing_stage',\n",
       " 'flat_size',\n",
       " 'floor',\n",
       " 'floor_attic',\n",
       " 'floor_basement',\n",
       " 'gallery',\n",
       " 'heating_type',\n",
       " 'img_gallery_strimg',\n",
       " 'location',\n",
       " 'main_url',\n",
       " 'market',\n",
       " 'name',\n",
       " 'number_of_floors',\n",
       " 'price',\n",
       " 'price_m2',\n",
       " 'property_form',\n",
       " 'rent_price',\n",
       " 'rooms',\n",
       " 'tracking_id',\n",
       " 'url',\n",
       " 'widows_type',\n",
       " 'year_of_building']"
      ]
     },
     "execution_count": 7,
     "metadata": {},
     "output_type": "execute_result"
    }
   ],
   "source": [
    "sorted(loc_new.keys())"
   ]
  },
  {
   "cell_type": "markdown",
   "metadata": {},
   "source": [
    "# S3"
   ]
  },
  {
   "cell_type": "code",
   "execution_count": 8,
   "metadata": {},
   "outputs": [],
   "source": [
    "s3_lista = helpers.FilesS3.list_files(BUCKET_NAME, BUCKET_PREFIX_BSON)\n",
    "s3_old = helpers.FilesS3.read_file(OLD, BUCKET_NAME, BUCKET_PREFIX_BSON)\n",
    "s3_new = helpers.FilesS3.read_file(NEW, BUCKET_NAME, BUCKET_PREFIX_BSON)\n"
   ]
  },
  {
   "cell_type": "code",
   "execution_count": 9,
   "metadata": {},
   "outputs": [
    {
     "data": {
      "text/plain": [
       "3485"
      ]
     },
     "execution_count": 9,
     "metadata": {},
     "output_type": "execute_result"
    }
   ],
   "source": [
    "len(s3_lista)"
   ]
  },
  {
   "cell_type": "code",
   "execution_count": 10,
   "metadata": {},
   "outputs": [
    {
     "data": {
      "text/plain": [
       "['add_rel_date',\n",
       " 'additional_info',\n",
       " 'agency_tracking_id',\n",
       " 'available_from',\n",
       " 'building_material',\n",
       " 'building_type',\n",
       " 'description',\n",
       " 'download_date',\n",
       " 'finishing_stage',\n",
       " 'flat_size',\n",
       " 'floor',\n",
       " 'gallery',\n",
       " 'geo_address_coordin',\n",
       " 'geo_address_text',\n",
       " 'geo_coordinates',\n",
       " 'heating_type',\n",
       " 'img_cover_title',\n",
       " 'img_gallery_strimg',\n",
       " 'issued_by',\n",
       " 'location',\n",
       " 'main_url',\n",
       " 'market',\n",
       " 'name',\n",
       " 'number_of_floors',\n",
       " 'offer_id',\n",
       " 'offer_title',\n",
       " 'offer_type',\n",
       " 'price',\n",
       " 'price_m2',\n",
       " 'price_per_square',\n",
       " 'producer_name',\n",
       " 'property_form',\n",
       " 'rent_price',\n",
       " 'rooms',\n",
       " 'tracking_id',\n",
       " 'type',\n",
       " 'update_rel_date',\n",
       " 'url',\n",
       " 'url_offer_list',\n",
       " 'widows_type',\n",
       " 'year_of_building']"
      ]
     },
     "execution_count": 10,
     "metadata": {},
     "output_type": "execute_result"
    }
   ],
   "source": [
    "sorted(s3_old.keys())"
   ]
  },
  {
   "cell_type": "code",
   "execution_count": 11,
   "metadata": {},
   "outputs": [
    {
     "data": {
      "text/plain": [
       "['GC_addr_city',\n",
       " 'GC_addr_country',\n",
       " 'GC_addr_country_code',\n",
       " 'GC_addr_county',\n",
       " 'GC_addr_house_number',\n",
       " 'GC_addr_neighbourhood',\n",
       " 'GC_addr_postcode',\n",
       " 'GC_addr_road',\n",
       " 'GC_addr_state',\n",
       " 'GC_addr_suburb',\n",
       " 'GC_boundingbox',\n",
       " 'GC_latitude',\n",
       " 'GC_longitude',\n",
       " '_id',\n",
       " 'additional_info',\n",
       " 'available_from',\n",
       " 'building_material',\n",
       " 'building_type',\n",
       " 'description',\n",
       " 'download_date',\n",
       " 'finishing_stage',\n",
       " 'flat_size',\n",
       " 'floor',\n",
       " 'floor_attic',\n",
       " 'floor_basement',\n",
       " 'gallery',\n",
       " 'heating_type',\n",
       " 'img_gallery_strimg',\n",
       " 'location',\n",
       " 'main_url',\n",
       " 'market',\n",
       " 'name',\n",
       " 'number_of_floors',\n",
       " 'price',\n",
       " 'price_m2',\n",
       " 'property_form',\n",
       " 'rent_price',\n",
       " 'rooms',\n",
       " 'tracking_id',\n",
       " 'url',\n",
       " 'widows_type',\n",
       " 'year_of_building']"
      ]
     },
     "execution_count": 11,
     "metadata": {},
     "output_type": "execute_result"
    }
   ],
   "source": [
    "sorted(s3_new.keys())"
   ]
  },
  {
   "cell_type": "markdown",
   "metadata": {},
   "source": [
    "# MONGO"
   ]
  },
  {
   "cell_type": "code",
   "execution_count": 12,
   "metadata": {},
   "outputs": [],
   "source": [
    "db = helpers.FilesMongo.set_connection(MONGO_ADDRESS,MONGO_PORT,MONGO_DBNAME, MONGO_COLL_OTODOM, \n",
    "                                       MONGO_USERNAME, MONGO_PASSWORD)"
   ]
  },
  {
   "cell_type": "code",
   "execution_count": 13,
   "metadata": {},
   "outputs": [],
   "source": [
    "mon_lista = helpers.FilesMongo.list_files(db)\n",
    "mon_old = helpers.FilesMongo.read_file(OLD,db)\n",
    "mon_new = helpers.FilesMongo.read_file(NEW,db)\n"
   ]
  },
  {
   "cell_type": "code",
   "execution_count": 14,
   "metadata": {},
   "outputs": [
    {
     "data": {
      "text/plain": [
       "14"
      ]
     },
     "execution_count": 14,
     "metadata": {},
     "output_type": "execute_result"
    }
   ],
   "source": [
    "len(mon_lista)"
   ]
  },
  {
   "cell_type": "code",
   "execution_count": 15,
   "metadata": {},
   "outputs": [
    {
     "ename": "AttributeError",
     "evalue": "'NoneType' object has no attribute 'keys'",
     "output_type": "error",
     "traceback": [
      "\u001b[0;31m---------------------------------------------------------------------------\u001b[0m",
      "\u001b[0;31mAttributeError\u001b[0m                            Traceback (most recent call last)",
      "\u001b[0;32m<ipython-input-15-21b57da16a7b>\u001b[0m in \u001b[0;36m<module>\u001b[0;34m()\u001b[0m\n\u001b[0;32m----> 1\u001b[0;31m \u001b[0msorted\u001b[0m\u001b[0;34m(\u001b[0m\u001b[0mmon_old\u001b[0m\u001b[0;34m.\u001b[0m\u001b[0mkeys\u001b[0m\u001b[0;34m(\u001b[0m\u001b[0;34m)\u001b[0m\u001b[0;34m)\u001b[0m\u001b[0;34m\u001b[0m\u001b[0m\n\u001b[0m",
      "\u001b[0;31mAttributeError\u001b[0m: 'NoneType' object has no attribute 'keys'"
     ]
    }
   ],
   "source": [
    "sorted(mon_old.keys())"
   ]
  },
  {
   "cell_type": "code",
   "execution_count": null,
   "metadata": {},
   "outputs": [],
   "source": [
    "sorted(mon_new.keys())"
   ]
  }
 ],
 "metadata": {
  "kernelspec": {
   "display_name": "Python 3",
   "language": "python",
   "name": "python3"
  },
  "language_info": {
   "codemirror_mode": {
    "name": "ipython",
    "version": 3
   },
   "file_extension": ".py",
   "mimetype": "text/x-python",
   "name": "python",
   "nbconvert_exporter": "python",
   "pygments_lexer": "ipython3",
   "version": "3.6.6"
  },
  "toc": {
   "base_numbering": 1,
   "nav_menu": {},
   "number_sections": true,
   "sideBar": true,
   "skip_h1_title": false,
   "title_cell": "Table of Contents",
   "title_sidebar": "Contents",
   "toc_cell": false,
   "toc_position": {},
   "toc_section_display": true,
   "toc_window_display": false
  }
 },
 "nbformat": 4,
 "nbformat_minor": 2
}
