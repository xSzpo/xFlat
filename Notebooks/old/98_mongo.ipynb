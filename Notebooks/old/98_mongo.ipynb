{
 "cells": [
  {
   "cell_type": "markdown",
   "metadata": {},
   "source": [
    "# load mongo"
   ]
  },
  {
   "cell_type": "code",
   "execution_count": 2,
   "metadata": {},
   "outputs": [],
   "source": [
    "import codecs\n",
    "import sys\n",
    "import os\n",
    "import logging\n",
    "\n",
    "logger = logging.getLogger(__name__)\n"
   ]
  },
  {
   "cell_type": "code",
   "execution_count": 3,
   "metadata": {},
   "outputs": [],
   "source": [
    "sys.path.append(\"/Users/xszpo/Google Drive/DataScience/Projects/201907_xFlat_AWS_Scrapy/app_webscr_otodom\")\n",
    "import helpers as helpers\n",
    "\n",
    "# run scrapy settings\n",
    "%run /Users/xszpo/Google\\ Drive/DataScience/Projects/201907_xFlat_AWS_Scrapy/app_webscr_otodom/scraper/settings.py\n"
   ]
  },
  {
   "cell_type": "code",
   "execution_count": 4,
   "metadata": {},
   "outputs": [],
   "source": [
    "import pymongo\n",
    "from pymongo.errors import ConnectionFailure, ServerSelectionTimeoutError, WriteError, WriteConcernError, WTimeoutError\n",
    "\n",
    "class Mongo:\n",
    "    \"\"\"\n",
    "    MongoDB methods\n",
    "    \"\"\"\n",
    "\n",
    "    def __init__(self,\n",
    "                 db_address='localhost',\n",
    "                 db_port=27017,\n",
    "                 db_username= '',\n",
    "                 db_password=''\n",
    "                 ):\n",
    "        self.db_address = db_address\n",
    "        self.db_port = db_port\n",
    "        self.db_username = db_username\n",
    "        self.db_password = db_password\n",
    "        \n",
    "\n",
    "    def mongodb_conn(self):\n",
    "        \"\"\"\n",
    "        https://www.programiz.com/python-programming/property\n",
    "        :return:\n",
    "            pymongo conetion\n",
    "        \"\"\"\n",
    "\n",
    "        try:\n",
    "            conn = pymongo.MongoClient(self.db_address, self.db_port, serverSelectionTimeoutMS=5000)\n",
    "            logger.info(\"Connected to MongoDB {}, address: {}:{}\".format(conn.server_info()['version'],\n",
    "                        self.db_address, self.db_port))\n",
    "            return conn\n",
    "\n",
    "        except (ConnectionFailure, ServerSelectionTimeoutError) as e:\n",
    "            logger.error(\"pymongo.errors, Could not connect to server: %s\" % e)\n",
    "\n",
    "        except BaseException as e:\n",
    "            logger.error(\"BaseException, something went wrong: %s\" % e)\n"
   ]
  },
  {
   "cell_type": "code",
   "execution_count": 5,
   "metadata": {},
   "outputs": [],
   "source": [
    "def mongodb_conn(db_address='localhost',db_port=27017,db_username= '',db_password=''):\n",
    "    \"\"\"\n",
    "    https://www.programiz.com/python-programming/property\n",
    "    :return:\n",
    "        pymongo conetion\n",
    "    \"\"\"\n",
    "\n",
    "    try:\n",
    "        if db_username == '':\n",
    "            conn = pymongo.MongoClient(host=db_address, port=db_port,serverSelectionTimeoutMS=5000)\n",
    "        else:\n",
    "            conn = pymongo.MongoClient(host=db_address, port=db_port,username=db_username,password=db_password,\n",
    "                                   authSource='admin', authMechanism='SCRAM-SHA-256', serverSelectionTimeoutMS=5000)\n",
    "        \n",
    "        logger.info(\"Connected to MongoDB {}, address: {}:{}\".format(conn.server_info()['version'],\n",
    "                                                                     db_address, db_port))\n",
    "        return conn\n",
    "\n",
    "    except (ConnectionFailure, ServerSelectionTimeoutError) as e:\n",
    "        logger.error(\"pymongo.errors, Could not connect to server: %s\" % e)\n",
    "\n",
    "    except BaseException as e:\n",
    "        logger.error(\"BaseException, something went wrong: %s\" % e)"
   ]
  },
  {
   "cell_type": "code",
   "execution_count": 6,
   "metadata": {},
   "outputs": [],
   "source": [
    "conn = mongodb_conn(db_address=MONGO_ADDRESS,db_port=MONGO_PORT,\n",
    "                    db_username= MONGO_USERNAME,db_password=MONGO_PASSWORD)"
   ]
  },
  {
   "cell_type": "code",
   "execution_count": 7,
   "metadata": {},
   "outputs": [],
   "source": [
    "db =conn[MONGO_DBNAME][MONGO_COLL_OTODOM]"
   ]
  },
  {
   "cell_type": "code",
   "execution_count": 8,
   "metadata": {},
   "outputs": [
    {
     "name": "stderr",
     "output_type": "stream",
     "text": [
      "/Users/xszpo/anaconda3/lib/python3.6/site-packages/ipykernel_launcher.py:1: DeprecationWarning: count is deprecated. Use Collection.count_documents instead.\n",
      "  \"\"\"Entry point for launching an IPython kernel.\n"
     ]
    },
    {
     "data": {
      "text/plain": [
       "0"
      ]
     },
     "execution_count": 8,
     "metadata": {},
     "output_type": "execute_result"
    }
   ],
   "source": [
    "db.find({}).count()"
   ]
  },
  {
   "cell_type": "code",
   "execution_count": 9,
   "metadata": {},
   "outputs": [
    {
     "data": {
      "text/plain": [
       "dict_keys(['__name__', '__doc__', '__package__', '__loader__', '__spec__', '__builtin__', '__builtins__', '_ih', '_oh', '_dh', 'In', 'Out', 'get_ipython', 'exit', 'quit', '_', '__', '___', '_i', '_ii', '_iii', '_i1', 'codecs', 'sys', 'os', 'logging', 'logger', '_i2', '_i3', 'helpers', '__nonzero__', 'BOT_NAME', 'MAX_PAGES', 'SAVE_RESULTS', 'LOCAL_DATA_PATH', 'LOCAL_DATA_PATH_PREP', 'LOCAL_DATA_PATH_DICT', 'BUCKET_NAME', 'BUCKET_PREFIX_BSON', 'MONGO_ADDRESS', 'MONGO_PORT', 'MONGO_DBNAME', 'MONGO_COLL_OTODOM', 'MONGO_USERNAME', 'MONGO_PASSWORD', 'DOWNLOAD_IMAGES', 'SPIDER_MODULES', 'NEWSPIDER_MODULE', 'LOG_ENABLE', 'LOG_LEVEL', 'ROBOTSTXT_OBEY', 'DOWNLOAD_DELAY', 'RANDOMIZE_DOWNLOAD_DELAY', 'CONCURRENT_REQUESTS', 'COOKIES_ENABLED', '_i4', 'pymongo', 'ConnectionFailure', 'ServerSelectionTimeoutError', 'WriteError', 'WriteConcernError', 'WTimeoutError', 'Mongo', '_i5', 'mongodb_conn', '_i6', 'conn', '_i7', 'db', '_i8', '_8', '_i9'])"
      ]
     },
     "execution_count": 9,
     "metadata": {},
     "output_type": "execute_result"
    }
   ],
   "source": [
    "globals().keys()\n"
   ]
  },
  {
   "cell_type": "code",
   "execution_count": 10,
   "metadata": {},
   "outputs": [],
   "source": [
    "client = pymongo.MongoClient(host=MONGO_ADDRESS, port=MONGO_PORT,\n",
    "                             username=MONGO_USERNAME,\n",
    "                             password=MONGO_PASSWORD,\n",
    "                             authSource='admin',\n",
    "                             authMechanism='SCRAM-SHA-256')"
   ]
  },
  {
   "cell_type": "code",
   "execution_count": 11,
   "metadata": {},
   "outputs": [],
   "source": [
    "db = client[MONGO_DBNAME][MONGO_COLL_OTODOM]"
   ]
  },
  {
   "cell_type": "code",
   "execution_count": 12,
   "metadata": {},
   "outputs": [
    {
     "data": {
      "text/plain": [
       "Collection(Database(MongoClient(host=['localhost:27017'], document_class=dict, tz_aware=False, connect=True, authsource='admin', authmechanism='SCRAM-SHA-256'), 'OFFERS'), 'Otodom')"
      ]
     },
     "execution_count": 12,
     "metadata": {},
     "output_type": "execute_result"
    }
   ],
   "source": [
    "db"
   ]
  },
  {
   "cell_type": "markdown",
   "metadata": {},
   "source": [
    "# put data in mongo"
   ]
  },
  {
   "cell_type": "code",
   "execution_count": 25,
   "metadata": {},
   "outputs": [],
   "source": [
    "import sys\n",
    "sys.path.append(\"/Users/xszpo/Google Drive/DataScience/Projects/201907_xFlat_AWS_Scrapy/app_webscr_otodom\")\n",
    "import helpers as helpers\n",
    "import gc\n",
    "import numpy as np\n",
    "import json\n",
    "\n",
    "def load_raw_data(file_name_list, file_path):\n",
    "    \n",
    "    columns = ['_id','name','location','flat_size', 'rooms','floor','price',\n",
    "               'price_m2', 'market', 'number_of_floors', 'floor_attic','floor_basement','building_type', \n",
    "               'building_material', 'widows_type', 'heating_type', 'year_of_building','finishing_stage', \n",
    "               'rent_price', 'property_form', 'available_from','description','additional_info',\n",
    "               'GC_latitude','GC_longitude', 'GC_boundingbox', 'GC_addr_house_number','GC_addr_road', \n",
    "               'GC_addr_neighbourhood', 'GC_addr_suburb','GC_addr_city', 'GC_addr_county', 'GC_addr_state', \n",
    "               'GC_addr_postcode','GC_addr_country', 'GC_addr_country_code','url','main_url','gallery',\n",
    "               'img_gallery_strimg','tracking_id','download_date']\n",
    "    \n",
    "    doc_list = []\n",
    "    \n",
    "    for name in file_name_list:\n",
    "        # LOAD DATA\n",
    "        _tmp = helpers.scraper.read_bson_local(file_path, name+\".bson\")\n",
    "\n",
    "        # PUT DATA INTO COLUMNS\n",
    "        _tmp['_id'] = name        \n",
    "        _tmp['GC_latitude'] = float(_tmp['geo_coordinates']['latitude'])\n",
    "        _tmp['GC_longitude'] = float(_tmp['geo_coordinates']['longitude'])\n",
    "        _tmp['GC_boundingbox'] = _tmp['geo_address_coordin']['@boundingbox']\n",
    "        _tmp['GC_addr_house_number'] = _tmp['geo_address_text']['house_number'] if 'house_number' in _tmp['geo_address_text'] else None\n",
    "        _tmp['GC_addr_road'] = _tmp['geo_address_text']['road'] if 'road' in _tmp['geo_address_text'] else None\n",
    "        _tmp['GC_addr_neighbourhood'] = _tmp['geo_address_text']['neighbourhood'] if 'neighbourhood' in _tmp['geo_address_text'] else None\n",
    "        _tmp['GC_addr_suburb'] = _tmp['geo_address_text']['suburb'] if 'suburb' in _tmp['geo_address_text'] else None\n",
    "        _tmp['GC_addr_city'] = _tmp['geo_address_text']['city'] if 'city' in _tmp['geo_address_text'] else None\n",
    "        _tmp['GC_addr_county'] = _tmp['geo_address_text']['county'] if 'country' in _tmp['geo_address_text'] else None\n",
    "        _tmp['GC_addr_state'] = _tmp['geo_address_text']['state'] if 'state' in _tmp['geo_address_text'] else None\n",
    "        _tmp['GC_addr_postcode'] = _tmp['geo_address_text']['postcode'] if 'postcode' in _tmp['geo_address_text'] else None\n",
    "        _tmp['GC_addr_country'] = _tmp['geo_address_text']['country'] if 'country' in _tmp['geo_address_text'] else None\n",
    "        _tmp['GC_addr_country_code'] = _tmp['geo_address_text']['country_code'] if 'country_code' in _tmp['geo_address_text'] else None\n",
    "        _tmp['additional_info'] =_tmp['additional_info'].split(\"|\")\n",
    "        _ = _tmp.pop('geo_coordinates')\n",
    "        _ = _tmp.pop('geo_address_coordin') \n",
    "        _ = _tmp.pop('price_per_square')\n",
    "\n",
    "        # MODIFY DATA\n",
    "        _tmp['flat_size'] = float(np.float32(helpers.scraper.digits_from_str(_tmp['flat_size']))) if _tmp['flat_size'] is not None else None\n",
    "        _tmp['price'] = float(np.float32(helpers.scraper.digits_from_str(_tmp['price']))) if _tmp['price'] is not None else None\n",
    "        _tmp['price_m2'] = helpers.scraper.digits_from_str(_tmp['price_m2']) if _tmp['price_m2'] is not None else None\n",
    "        _tmp['rooms'] = int(helpers.scraper.digits_from_str(_tmp['rooms'])) if _tmp['rooms'] is not None else None\n",
    "        _tmp['floor_attic'] = 1 if _tmp['floor']=='poddasze' else 0\n",
    "        _tmp['floor_basement'] = 1 if _tmp['floor']=='suterena' else 0\n",
    "        _tmp['floor'] = float(np.float32(helpers.scraper.convert_floor(_tmp['floor']))) if isinstance(_tmp['floor'], (str)) else None\n",
    "        _tmp['number_of_floors'] = float(np.float32(_tmp['number_of_floors'])) if isinstance(_tmp['number_of_floors'], (str)) else None\n",
    "        _tmp['year_of_building'] = float(np.float32(_tmp['year_of_building'])) if isinstance(_tmp['year_of_building'], (str)) else None\n",
    "        _tmp['rent_price'] = helpers.scraper.digits_from_str(_tmp['rent_price']) if _tmp['rent_price'] is not None else None\n",
    "        _tmp['gallery'] = json.loads(_tmp['gallery'])\n",
    "        _tmp['tracking_id'] = int(helpers.scraper.digits_from_str(_tmp['tracking_id'])) if _tmp['tracking_id'] is not None else None\n",
    "        _tmp = helpers.scraper.dict_except(_tmp,[],include_keys=columns)\n",
    "        \n",
    "        doc_list += [_tmp]\n",
    "\n",
    "    gc.collect()\n",
    "    return doc_list\n",
    "    "
   ]
  },
  {
   "cell_type": "code",
   "execution_count": 14,
   "metadata": {},
   "outputs": [],
   "source": [
    "ID_list = [i[:-5] for i in os.listdir(LOCAL_DATA_PATH) if i.endswith(\".bson\")]"
   ]
  },
  {
   "cell_type": "code",
   "execution_count": 28,
   "metadata": {},
   "outputs": [
    {
     "name": "stdout",
     "output_type": "stream",
     "text": [
      "CPU times: user 24.6 s, sys: 6.36 s, total: 30.9 s\n",
      "Wall time: 41.1 s\n"
     ]
    }
   ],
   "source": [
    "%%time\n",
    "raw_data = load_raw_data(ID_list, LOCAL_DATA_PATH)"
   ]
  },
  {
   "cell_type": "code",
   "execution_count": 29,
   "metadata": {},
   "outputs": [
    {
     "name": "stdout",
     "output_type": "stream",
     "text": [
      "CPU times: user 4.36 s, sys: 3.58 s, total: 7.95 s\n",
      "Wall time: 5min 23s\n"
     ]
    },
    {
     "data": {
      "text/plain": [
       "<pymongo.results.InsertManyResult at 0x117811308>"
      ]
     },
     "execution_count": 29,
     "metadata": {},
     "output_type": "execute_result"
    }
   ],
   "source": [
    "%%time\n",
    "db.insert_many(raw_data)"
   ]
  },
  {
   "cell_type": "markdown",
   "metadata": {},
   "source": [
    "# Prepare data"
   ]
  },
  {
   "cell_type": "code",
   "execution_count": null,
   "metadata": {},
   "outputs": [],
   "source": [
    "def list_mongo(db_):\n",
    "    return [i['_id'] for i in db_.find({},{\"_id\":1})]"
   ]
  },
  {
   "cell_type": "code",
   "execution_count": null,
   "metadata": {},
   "outputs": [],
   "source": [
    "def write_mongo(object_file, db_):\n",
    "    try:\n",
    "        return db_.update_one({'_id': object_file[\"_id\"]}, {\"$set\": object_file}, upsert=True)\n",
    "    except (ConnectionFailure, ServerSelectionTimeoutError) as e:\n",
    "        logger.error(\"pymongo.errors, Could not connect to server: %s\" % e)\n",
    "    except (WriteError, WriteConcernError, WTimeoutError) as e:\n",
    "        logger.error(\"pymongo.errors, Write error: %s\" % e)\n",
    "    except BaseException as e:\n",
    "        logger.error(\"BaseException, something went wrong: %s\" % e)\n",
    "        \n",
    "    "
   ]
  },
  {
   "cell_type": "code",
   "execution_count": null,
   "metadata": {},
   "outputs": [],
   "source": [
    "ID = list_mongo(db)"
   ]
  },
  {
   "cell_type": "code",
   "execution_count": null,
   "metadata": {},
   "outputs": [],
   "source": [
    "write_mongo(raw_data[0],db)"
   ]
  },
  {
   "cell_type": "code",
   "execution_count": null,
   "metadata": {},
   "outputs": [],
   "source": [
    "import sys\n",
    "sys.path.append(\"/Users/xszpo/Google Drive/DataScience/Projects/201907_xFlat_AWS_Scrapy/app_webscr_otodom\")\n",
    "import helpers as helpers\n",
    "import gc\n",
    "import numpy as np\n",
    "import json\n",
    "\n",
    "def mongo_otodom_transf_json(json_data):\n",
    "    \n",
    "    columns = ['_id','name','location','flat_size', 'rooms','floor','price',\n",
    "               'price_m2', 'market', 'number_of_floors', 'floor_attic','floor_basement','building_type', \n",
    "               'building_material', 'widows_type', 'heating_type', 'year_of_building','finishing_stage', \n",
    "               'rent_price', 'property_form', 'available_from','description','additional_info',\n",
    "               'GC_latitude','GC_longitude', 'GC_boundingbox', 'GC_addr_house_number','GC_addr_road', \n",
    "               'GC_addr_neighbourhood', 'GC_addr_suburb','GC_addr_city', 'GC_addr_county', 'GC_addr_state', \n",
    "               'GC_addr_postcode','GC_addr_country', 'GC_addr_country_code','url','main_url','gallery',\n",
    "               'img_gallery_strimg']\n",
    "    \n",
    "    _tmp = json_data.copy()\n",
    "\n",
    "    # PUT DATA INTO COLUMNS\n",
    "    _tmp['_id'] = name        \n",
    "    _tmp['GC_latitude'] = float(_tmp['geo_coordinates']['latitude'])\n",
    "    _tmp['GC_longitude'] = float(_tmp['geo_coordinates']['longitude'])\n",
    "    _tmp['GC_boundingbox'] = _tmp['geo_address_coordin']['@boundingbox']\n",
    "    _tmp['GC_addr_house_number'] = _tmp['geo_address_text']['house_number'] if 'house_number' in _tmp['geo_address_text'] else None\n",
    "    _tmp['GC_addr_road'] = _tmp['geo_address_text']['road'] if 'road' in _tmp['geo_address_text'] else None\n",
    "    _tmp['GC_addr_neighbourhood'] = _tmp['geo_address_text']['neighbourhood'] if 'neighbourhood' in _tmp['geo_address_text'] else None\n",
    "    _tmp['GC_addr_suburb'] = _tmp['geo_address_text']['suburb'] if 'suburb' in _tmp['geo_address_text'] else None\n",
    "    _tmp['GC_addr_city'] = _tmp['geo_address_text']['city'] if 'city' in _tmp['geo_address_text'] else None\n",
    "    _tmp['GC_addr_county'] = _tmp['geo_address_text']['county'] if 'country' in _tmp['geo_address_text'] else None\n",
    "    _tmp['GC_addr_state'] = _tmp['geo_address_text']['state'] if 'state' in _tmp['geo_address_text'] else None\n",
    "    _tmp['GC_addr_postcode'] = _tmp['geo_address_text']['postcode'] if 'postcode' in _tmp['geo_address_text'] else None\n",
    "    _tmp['GC_addr_country'] = _tmp['geo_address_text']['country'] if 'country' in _tmp['geo_address_text'] else None\n",
    "    _tmp['GC_addr_country_code'] = _tmp['geo_address_text']['country_code'] if 'country_code' in _tmp['geo_address_text'] else None\n",
    "    _tmp['additional_info'] =_tmp['additional_info'].split(\"|\")\n",
    "    _ = _tmp.pop('geo_coordinates')\n",
    "    _ = _tmp.pop('geo_address_coordin') \n",
    "    _ = _tmp.pop('price_per_square')\n",
    "\n",
    "        # MODIFY DATA\n",
    "    _tmp['flat_size'] = float(np.float32(helpers.scraper.digits_from_str(_tmp['flat_size']))) if _tmp['flat_size'] is not None else None\n",
    "    _tmp['price'] = float(np.float32(helpers.scraper.digits_from_str(_tmp['price']))) if _tmp['price'] is not None else None\n",
    "    _tmp['price_m2'] = helpers.scraper.digits_from_str(_tmp['price_m2']) if _tmp['price_m2'] is not None else None\n",
    "    _tmp['rooms'] = int(helpers.scraper.digits_from_str(_tmp['rooms'])) if _tmp['rooms'] is not None else None\n",
    "    _tmp['floor_attic'] = 1 if _tmp['floor']=='poddasze' else 0\n",
    "    _tmp['floor_basement'] = 1 if _tmp['floor']=='suterena' else 0\n",
    "    _tmp['floor'] = float(np.float32(helpers.scraper.convert_floor(_tmp['floor']))) if isinstance(_tmp['floor'], (str)) else None\n",
    "    _tmp['number_of_floors'] = float(np.float32(_tmp['number_of_floors'])) if isinstance(_tmp['number_of_floors'], (str)) else None\n",
    "    _tmp['year_of_building'] = float(np.float32(_tmp['year_of_building'])) if isinstance(_tmp['year_of_building'], (str)) else None\n",
    "    _tmp['rent_price'] = helpers.scraper.digits_from_str(_tmp['rent_price']) if _tmp['rent_price'] is not None else None\n",
    "    _tmp['gallery'] = json.loads(_tmp['gallery'])\n",
    "    _tmp = helpers.scraper.dict_except(_tmp,[],include_keys=columns)\n",
    "        \n",
    "    gc.collect()\n",
    "    return _tmp\n",
    "    "
   ]
  }
 ],
 "metadata": {
  "kernelspec": {
   "display_name": "Python 3",
   "language": "python",
   "name": "python3"
  },
  "language_info": {
   "codemirror_mode": {
    "name": "ipython",
    "version": 3
   },
   "file_extension": ".py",
   "mimetype": "text/x-python",
   "name": "python",
   "nbconvert_exporter": "python",
   "pygments_lexer": "ipython3",
   "version": "3.6.6"
  },
  "toc": {
   "base_numbering": 1,
   "nav_menu": {},
   "number_sections": true,
   "sideBar": true,
   "skip_h1_title": false,
   "title_cell": "Table of Contents",
   "title_sidebar": "Contents",
   "toc_cell": false,
   "toc_position": {},
   "toc_section_display": true,
   "toc_window_display": false
  }
 },
 "nbformat": 4,
 "nbformat_minor": 2
}
