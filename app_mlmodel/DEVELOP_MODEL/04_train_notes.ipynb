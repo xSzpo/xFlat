{
 "cells": [
  {
   "cell_type": "code",
   "execution_count": 1,
   "metadata": {},
   "outputs": [],
   "source": [
    "import feather\n",
    "import sys\n",
    "sys.path.append(\"..\")\n",
    "import helpers"
   ]
  },
  {
   "cell_type": "code",
   "execution_count": 2,
   "metadata": {},
   "outputs": [],
   "source": [
    "df_train = feather.read_dataframe(\"data/df_train.feather\")\n",
    "df_test = feather.read_dataframe(\"data/df_test.feather\")\n",
    "df_oot = feather.read_dataframe(\"data/df_oot.feather\")"
   ]
  },
  {
   "cell_type": "code",
   "execution_count": 3,
   "metadata": {},
   "outputs": [
    {
     "name": "stderr",
     "output_type": "stream",
     "text": [
      "/Users/xszpo/opt/anaconda3/lib/python3.7/site-packages/lightgbm/__init__.py:48: UserWarning: Starting from version 2.2.1, the library file in distribution wheels for macOS is built by the Apple Clang (Xcode_8.3.3) compiler.\n",
      "This means that in case of installing LightGBM from PyPI via the ``pip install lightgbm`` command, you don't need to install the gcc compiler anymore.\n",
      "Instead of that, you need to install the OpenMP library, which is required for running LightGBM on the system with the Apple Clang compiler.\n",
      "You can install the OpenMP library by the following command: ``brew install libomp``.\n",
      "  \"You can install the OpenMP library by the following command: ``brew install libomp``.\", UserWarning)\n"
     ]
    }
   ],
   "source": [
    "import numpy as np\n",
    "from category_encoders import *\n",
    "\n",
    "from sklearn.feature_extraction.text import TfidfVectorizer\n",
    "from sklearn.compose import ColumnTransformer\n",
    "from sklearn.pipeline import make_pipeline\n",
    "from sklearn.metrics import r2_score, median_absolute_error, mean_absolute_error\n",
    "\n",
    "import lightgbm as lgb"
   ]
  },
  {
   "cell_type": "code",
   "execution_count": 4,
   "metadata": {},
   "outputs": [],
   "source": [
    "outliers = [\n",
    "    {\"key\":\"price\", \"min\":0, \"max\":1500000},\n",
    "    {\"key\":\"flat_size\",\"min\":6, \"max\":216},\n",
    "    {\"key\":\"year_of_building\",\"min\":1850, \"max\":2050},    \n",
    "    {\"key\":\"GC_longitude\",\"min\":20.5,\"max\":21.5},\n",
    "    {\"key\":\"GC_latitude\",\"min\":51,\"max\":52.5}\n",
    "]"
   ]
  },
  {
   "cell_type": "code",
   "execution_count": 5,
   "metadata": {
    "scrolled": false
   },
   "outputs": [
    {
     "name": "stdout",
     "output_type": "stream",
     "text": [
      "price != price or (price>0 and price<1500000)\n",
      "flat_size != flat_size or (flat_size>6 and flat_size<216)\n",
      "year_of_building != year_of_building or (year_of_building>1850 and year_of_building<2050)\n",
      "GC_longitude != GC_longitude or (GC_longitude>20.5 and GC_longitude<21.5)\n",
      "GC_latitude != GC_latitude or (GC_latitude>51 and GC_latitude<52.5)\n"
     ]
    }
   ],
   "source": [
    "for val in outliers:\n",
    "    print(\"{key} != {key} or ({key}>{min} and {key}<{max})\".format(**val))\n",
    "    df_train=df_train.query(\"{key} != {key} or ({key}>{min} and {key}<{max})\".format(**val))"
   ]
  },
  {
   "cell_type": "code",
   "execution_count": 6,
   "metadata": {},
   "outputs": [
    {
     "data": {
      "text/plain": [
       "'\\nnp.random.seed(666)\\n\\n\\npipe = make_pipeline(\\n    ColumnTransformer([\\n        (\\'cat\\', helpers.transformColList(),[\"producer_name\",\"GC_addr_suburb\"]),\\n        (\\'num\\', helpers.PassThroughOrReplace(),[\"flat_size\",\"rooms\",\"floor\",\"number_of_floors\",\"year_of_building\"]),\\n        (\\'num_G\\', helpers.PassThroughOrReplace(),[\"GC_latitude\",\"GC_longitude\"]),\\n        #(\\'te_G\\', CatBoostEncoder(), \\'GC_addr_postcode\\'),\\n        (\\'txt_dscr\\', TfidfVectorizer(lowercase=True, \\n                               ngram_range=(1, 3), \\n                               max_features=3000, \\n                               dtype=np.float32,\\n                               use_idf=True),\\'description\\'),\\n        (\\'txt_i\\', TfidfVectorizer(lowercase=True, \\n                               ngram_range=(1, 3), \\n                               max_features=3000, \\n                               dtype=np.float32,\\n                               binary = True,\\n                               use_idf=False),\\'info\\'),\\n    ]),\\n    \\n    )\\n'"
      ]
     },
     "execution_count": 6,
     "metadata": {},
     "output_type": "execute_result"
    }
   ],
   "source": [
    "\"\"\"\n",
    "np.random.seed(666)\n",
    "\n",
    "\n",
    "pipe = make_pipeline(\n",
    "    ColumnTransformer([\n",
    "        ('cat', helpers.transformColList(),[\"producer_name\",\"GC_addr_suburb\"]),\n",
    "        ('num', helpers.PassThroughOrReplace(),[\"flat_size\",\"rooms\",\"floor\",\"number_of_floors\",\"year_of_building\"]),\n",
    "        ('num_G', helpers.PassThroughOrReplace(),[\"GC_latitude\",\"GC_longitude\"]),\n",
    "        #('te_G', CatBoostEncoder(), 'GC_addr_postcode'),\n",
    "        ('txt_dscr', TfidfVectorizer(lowercase=True, \n",
    "                               ngram_range=(1, 3), \n",
    "                               max_features=3000, \n",
    "                               dtype=np.float32,\n",
    "                               use_idf=True),'description'),\n",
    "        ('txt_i', TfidfVectorizer(lowercase=True, \n",
    "                               ngram_range=(1, 3), \n",
    "                               max_features=3000, \n",
    "                               dtype=np.float32,\n",
    "                               binary = True,\n",
    "                               use_idf=False),'info'),\n",
    "    ]),\n",
    "    \n",
    "    )\n",
    "\"\"\""
   ]
  },
  {
   "cell_type": "code",
   "execution_count": 14,
   "metadata": {},
   "outputs": [],
   "source": [
    "flds_id = ['_id',]\n",
    "flds_target = ['price']\n",
    "flds_num = ['flat_size','rooms','floor','number_of_floors','year_of_building']\n",
    "flds_num_geo = ['GC_latitude','GC_longitude']\n",
    "flds_cat = ['producer_name']\n",
    "flds_cat_geo =['GC_addr_road','GC_addr_neighbourhood','GC_addr_suburb','GC_addr_city','GC_addr_state','GC_addr_postcode','GC_addr_country']\n",
    "flds_text = ['description']\n",
    "flds_drop = ['location']\n",
    "download_date = ['download_date','name']\n",
    "all_fields = flds_id+flds_target+flds_num+flds_num_geo+flds_cat+flds_cat_geo+flds_text+download_date+flds_drop\n",
    "\n",
    "np.random.seed(666)\n",
    "\n",
    "pipe = make_pipeline(\n",
    "    ColumnTransformer([\n",
    "        ('cat', helpers.transformColList(),flds_cat+flds_cat_geo),\n",
    "        ('num', helpers.PassThroughOrReplace(),flds_num+flds_num_geo),\n",
    "        ('te_G', TargetEncoder(), 'GC_addr_postcode'),\n",
    "        ('txt_name', TfidfVectorizer(lowercase=True, \n",
    "                               ngram_range=(1,1), \n",
    "                               max_features=500, \n",
    "                               dtype=np.float32,\n",
    "                               binary = True, \n",
    "                               use_idf=False),'name'),\n",
    "        ('txt_dscr', TfidfVectorizer(lowercase=True, \n",
    "                               ngram_range=(1, 3), \n",
    "                               max_features=3000, \n",
    "                               dtype=np.float32,\n",
    "                               use_idf=True),'description'),\n",
    "    ]),\n",
    "    )"
   ]
  },
  {
   "cell_type": "code",
   "execution_count": 15,
   "metadata": {},
   "outputs": [
    {
     "name": "stdout",
     "output_type": "stream",
     "text": [
      "CPU times: user 2min 2s, sys: 13 s, total: 2min 15s\n",
      "Wall time: 2min 41s\n"
     ]
    }
   ],
   "source": [
    "%%time\n",
    "train_transform=pipe.fit_transform(df_train, df_train.price)"
   ]
  },
  {
   "cell_type": "code",
   "execution_count": 16,
   "metadata": {},
   "outputs": [
    {
     "name": "stdout",
     "output_type": "stream",
     "text": [
      "CPU times: user 26.7 s, sys: 1.85 s, total: 28.6 s\n",
      "Wall time: 34.6 s\n"
     ]
    }
   ],
   "source": [
    "%%time\n",
    "test_transform=pipe.transform(df_test)\n",
    "oot_transform=pipe.transform(df_oot)"
   ]
  },
  {
   "cell_type": "code",
   "execution_count": 17,
   "metadata": {},
   "outputs": [],
   "source": [
    "params = {'colsample_bytree': 0.6624318354159208, #feature_fraction\n",
    " 'learning_rate': 0.15990411055449805,\n",
    " 'max_bin': 38712,\n",
    " 'max_depth': 7,\n",
    " 'min_child_samples': 84, #min_data_in_leaf\n",
    " 'min_child_weight': 6, #min_sum_hessian_in_leaf\n",
    " 'n_estimators': 206, #num_iterations\n",
    " 'num_leaves': 159,\n",
    " 'reg_alpha': 3.960667919705787e-06, #lambda_l1\n",
    " 'reg_lambda': 499.85995495490215, #lambda_l2\n",
    " 'subsample': 0.9022680042341511, #bagging_fraction\n",
    " 'subsample_for_bin': 144116, #bin_construct_sample_cnt\n",
    " 'subsample_freq': 0 #bagging_freq\n",
    "         } \n",
    "model = lgb.LGBMRegressor(**params, objective='regression_l2', random_state=666)"
   ]
  },
  {
   "cell_type": "code",
   "execution_count": null,
   "metadata": {},
   "outputs": [],
   "source": [
    "%%time\n",
    "y_log = np.log1p( df_train.price.tolist())\n",
    "model.fit(train_transform, y_log)"
   ]
  },
  {
   "cell_type": "code",
   "execution_count": null,
   "metadata": {},
   "outputs": [],
   "source": [
    "%%time\n",
    "\n",
    "y_pred = model.predict(train_transform)\n",
    "y_pred = np.expm1(y_pred)\n",
    "\n",
    "r2 = r2_score(df_train.price, y_pred)\n",
    "med_abs_err = median_absolute_error(df_train.price, y_pred)\n",
    "mean_abs_err = mean_absolute_error(df_train.price, y_pred)\n",
    "print(\"Train set r2 score {}, median absolute error {}, \"\n",
    "      \"mean absolute error {}\".format(round(r2, 4), int(med_abs_err),\n",
    "                                      int(mean_abs_err)))\n",
    "\n",
    "y_pred = model.predict(test_transform)\n",
    "y_pred = np.expm1(y_pred)\n",
    "\n",
    "r2 = r2_score(df_test.price, y_pred)\n",
    "med_abs_err = median_absolute_error(df_test.price, y_pred)\n",
    "mean_abs_err = mean_absolute_error(df_test.price, y_pred)\n",
    "\n",
    "print(\"Test set r2 score {}, median absolute error {}, mean absolute error {}\".format(\n",
    "    round(r2, 4), int(med_abs_err), int(mean_abs_err)))\n",
    "\n",
    "y_pred = model.predict(oot_transform)\n",
    "y_pred = np.expm1(y_pred)\n",
    "\n",
    "r2 = r2_score(df_oot.price, y_pred)\n",
    "med_abs_err = median_absolute_error(df_oot.price, y_pred)\n",
    "mean_abs_err = mean_absolute_error(df_oot.price, y_pred)\n",
    "\n",
    "print(\"Out of time set  r2 score {}, median absolute error {}, mean absolute error {}\".format(\n",
    "    round(r2, 4), int(med_abs_err), int(mean_abs_err)))\n"
   ]
  },
  {
   "cell_type": "markdown",
   "metadata": {},
   "source": [
    "mTrain set r2 score 0.8974, median absolute error 34937, mean absolute error 56433\n",
    "Test set r2 score 0.4974, median absolute error 42528, mean absolute error 142758\n",
    "Out of time set  r2 score 0.379, median absolute error 43568, mean absolute error 165643\n",
    "CPU times: user 2.75 s, sys: 507 ms, total: 3.26 s\n",
    "Wall time: 1.1 s"
   ]
  }
 ],
 "metadata": {
  "kernelspec": {
   "display_name": "Python 3",
   "language": "python",
   "name": "python3"
  },
  "language_info": {
   "codemirror_mode": {
    "name": "ipython",
    "version": 3
   },
   "file_extension": ".py",
   "mimetype": "text/x-python",
   "name": "python",
   "nbconvert_exporter": "python",
   "pygments_lexer": "ipython3",
   "version": "3.7.4"
  },
  "toc": {
   "base_numbering": 1,
   "nav_menu": {},
   "number_sections": true,
   "sideBar": true,
   "skip_h1_title": false,
   "title_cell": "Table of Contents",
   "title_sidebar": "Contents",
   "toc_cell": false,
   "toc_position": {},
   "toc_section_display": true,
   "toc_window_display": false
  }
 },
 "nbformat": 4,
 "nbformat_minor": 2
}
