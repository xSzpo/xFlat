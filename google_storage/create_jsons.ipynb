{
 "cells": [
  {
   "cell_type": "code",
   "execution_count": 1,
   "metadata": {},
   "outputs": [],
   "source": [
    "import tarfile\n",
    "import json\n",
    "import codecs\n",
    "import os\n",
    "from tqdm.notebook import tqdm_notebook"
   ]
  },
  {
   "cell_type": "code",
   "execution_count": 2,
   "metadata": {},
   "outputs": [],
   "source": [
    "def convert_line_2_json(json_flat):\n",
    "    json_data = json.loads(json_flat)\n",
    "    try:\n",
    "        json_data['download_date_utc'] = float(json_data['download_date_utc']['$numberDecimal']) \n",
    "    except:\n",
    "        json_data['download_date_utc'] = float(json_data['download_date_utc'])\n",
    "    \n",
    "    json_data['download_date'] = json_data['download_date']['$date']\n",
    "    \n",
    "    return json_data\n",
    "\n",
    "def save_json(one_json, id_fiels=\"_id\"):\n",
    "    name = one_json[id_fiels]\n",
    "    producer_name = one_json['producer_name']\n",
    "    \n",
    "    dir_ = os.path.join(\"data\",producer_name)\n",
    "    if not os.path.exists(dir_):\n",
    "        os.makedirs(dir_, mode=511, exist_ok=True)\n",
    "    \n",
    "    with codecs.open(os.path.join(dir_,name+'.json'), 'w') as outfile:\n",
    "        json.dump(one_json, outfile)\n",
    "        \n",
    "        "
   ]
  },
  {
   "cell_type": "code",
   "execution_count": 15,
   "metadata": {},
   "outputs": [
    {
     "data": {
      "application/vnd.jupyter.widget-view+json": {
       "model_id": "32f4f3659e3447668b8976d3c8846741",
       "version_major": 2,
       "version_minor": 0
      },
      "text/plain": [
       "HBox(children=(IntProgress(value=0, description='data_backup.tar.gz', max=4, style=ProgressStyle(description_w…"
      ]
     },
     "metadata": {},
     "output_type": "display_data"
    },
    {
     "data": {
      "application/vnd.jupyter.widget-view+json": {
       "model_id": "ae5a68f5845e4def8076c9f2cce10fdf",
       "version_major": 2,
       "version_minor": 0
      },
      "text/plain": [
       "HBox(children=(IntProgress(value=0, description='olx.json', max=2628, style=ProgressStyle(description_width='i…"
      ]
     },
     "metadata": {},
     "output_type": "display_data"
    },
    {
     "name": "stdout",
     "output_type": "stream",
     "text": [
      "\n"
     ]
    },
    {
     "data": {
      "application/vnd.jupyter.widget-view+json": {
       "model_id": "271b1dbd436d4b6093e281a24b8b9bc0",
       "version_major": 2,
       "version_minor": 0
      },
      "text/plain": [
       "HBox(children=(IntProgress(value=0, description='gratka.json', max=12710, style=ProgressStyle(description_widt…"
      ]
     },
     "metadata": {},
     "output_type": "display_data"
    },
    {
     "name": "stdout",
     "output_type": "stream",
     "text": [
      "\n"
     ]
    },
    {
     "data": {
      "application/vnd.jupyter.widget-view+json": {
       "model_id": "334d6da7e69947d38db4a7c721a894a5",
       "version_major": 2,
       "version_minor": 0
      },
      "text/plain": [
       "HBox(children=(IntProgress(value=0, description='otodom.json', max=18431, style=ProgressStyle(description_widt…"
      ]
     },
     "metadata": {},
     "output_type": "display_data"
    },
    {
     "name": "stdout",
     "output_type": "stream",
     "text": [
      "\n"
     ]
    },
    {
     "data": {
      "application/vnd.jupyter.widget-view+json": {
       "model_id": "ddce7893fdec424e83eaa9fea5e3996a",
       "version_major": 2,
       "version_minor": 0
      },
      "text/plain": [
       "HBox(children=(IntProgress(value=0, description='morizon.json', max=8451, style=ProgressStyle(description_widt…"
      ]
     },
     "metadata": {},
     "output_type": "display_data"
    },
    {
     "name": "stdout",
     "output_type": "stream",
     "text": [
      "\n",
      "\n"
     ]
    }
   ],
   "source": [
    "tar = tarfile.open(\"../mongodb/data_backup.tar.gz\", \"r:gz\")\n",
    "\n",
    "for member in tqdm_notebook(tar.getmembers(), desc=tar.name.split(\"/\")[-1]):\n",
    "    f = tar.extractfile(member)\n",
    "    if f is not None:\n",
    "        content = f.readlines()\n",
    "        for json_ in tqdm_notebook(content, desc=member.name):\n",
    "            json_ = convert_line_2_json(json_)\n",
    "            save_json(json_)\n"
   ]
  },
  {
   "cell_type": "code",
   "execution_count": 11,
   "metadata": {},
   "outputs": [
    {
     "data": {
      "text/plain": [
       "'olx.json'"
      ]
     },
     "execution_count": 11,
     "metadata": {},
     "output_type": "execute_result"
    }
   ],
   "source": []
  }
 ],
 "metadata": {
  "kernelspec": {
   "display_name": "Python 3",
   "language": "python",
   "name": "python3"
  },
  "language_info": {
   "codemirror_mode": {
    "name": "ipython",
    "version": 3
   },
   "file_extension": ".py",
   "mimetype": "text/x-python",
   "name": "python",
   "nbconvert_exporter": "python",
   "pygments_lexer": "ipython3",
   "version": "3.7.4"
  }
 },
 "nbformat": 4,
 "nbformat_minor": 4
}
