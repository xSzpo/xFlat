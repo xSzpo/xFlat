{
 "cells": [
  {
   "cell_type": "code",
   "execution_count": 1,
   "metadata": {},
   "outputs": [],
   "source": [
    "import pymongo\n",
    "import datetime\n",
    "import pytz\n",
    "import numpy as np\n",
    "\n",
    "def timestamp2datetime(timestamp):\n",
    "    return datetime.datetime.fromtimestamp(timestamp,pytz.timezone(\"Europe/Warsaw\"))\n"
   ]
  },
  {
   "cell_type": "code",
   "execution_count": 2,
   "metadata": {},
   "outputs": [],
   "source": [
    "conn_backup = pymongo.MongoClient(host='localhost', port=27020, username='xflats',\n",
    "                                  password='xflats', authSource='admin', authMechanism='SCRAM-SHA-256',\n",
    "                                  serverSelectionTimeoutMS=5000)\n",
    "db_bck = conn_backup['OFFERS']['Otodom_backup']"
   ]
  },
  {
   "cell_type": "code",
   "execution_count": 3,
   "metadata": {},
   "outputs": [],
   "source": [
    "conn_org = pymongo.MongoClient(host='localhost', port=27017, username='xflats',\n",
    "                                  password='xflats', authSource='admin', authMechanism='SCRAM-SHA-256',\n",
    "                                  serverSelectionTimeoutMS=5000)\n",
    "db_org = conn_org['OFFERS']['otodom']"
   ]
  },
  {
   "cell_type": "code",
   "execution_count": 4,
   "metadata": {},
   "outputs": [],
   "source": [
    "project = {\n",
    "    '_id':1,\n",
    "    'name':1,\n",
    "    'location':1,\n",
    "    'flat_size':1,\n",
    "    'rooms':1,\n",
    "    'floor':1,\n",
    "    'price':1,\n",
    "    'tracking_id':1,\n",
    "    'url':1,\n",
    "    'producer_name':1,\n",
    "    'main_url':1,\n",
    "    'price_m2':1,\n",
    "    'market':1,\n",
    "    'number_of_floors':1,\n",
    "    'floor_attic':1,\n",
    "    'floor_basement':1,\n",
    "    'building_type':1,\n",
    "    'building_material':1,\n",
    "    'widows_type':1,\n",
    "    'heating_type':1,\n",
    "    'year_of_building':1,\n",
    "    'finishing_stage':1,\n",
    "    'rent_price':1,\n",
    "    'property_form':1,\n",
    "    'available_from':1,\n",
    "    'description':1,\n",
    "    'additional_info':1,\n",
    "    'GC_latitude':1,\n",
    "    'GC_longitude':1,\n",
    "    'GC_boundingbox':1,\n",
    "    'GC_addr_house_number':1,\n",
    "    'GC_addr_road':1,\n",
    "    'GC_addr_neighbourhood':1,\n",
    "    'GC_addr_suburb':1,\n",
    "    'GC_addr_city':1,\n",
    "    'GC_addr_county':1,\n",
    "    'GC_addr_state':1,\n",
    "    'GC_addr_postcode':1,\n",
    "    'GC_addr_country':1,\n",
    "    'GC_addr_country_code':1,\n",
    "    'download_date':1\n",
    "}"
   ]
  },
  {
   "cell_type": "code",
   "execution_count": 10,
   "metadata": {},
   "outputs": [],
   "source": [
    "def transform_rec(rec):\n",
    "    rec['_id'] = \"oto_\"+rec['_id']\n",
    "    rec['flat_size'] = int(rec['flat_size']) if rec['flat_size'] is not None else None\n",
    "    rec['rooms'] = int(rec['rooms']) if rec['rooms'] is not None else None\n",
    "    rec['floor'] = int(rec['floor']) if rec['floor'] is not None else None\n",
    "    rec['price'] = int(rec['price']) if rec['price'] is not None else None\n",
    "    rec['tracking_id'] = int(rec['tracking_id']) if rec['tracking_id'] is not None else None\n",
    "    rec['number_of_floors'] = int(rec['number_of_floors']) if rec['number_of_floors'] is not None else None\n",
    "    rec['floor_attic'] = int(rec['floor_attic']) if rec['floor_attic'] is not None else None\n",
    "    rec['floor_basement'] = int(rec['floor_basement']) if rec['floor_basement'] is not None else None\n",
    "    rec['year_of_building'] = int(rec['year_of_building']) if rec['year_of_building'] is not None else None\n",
    "    rec['download_date'] = timestamp2datetime(rec['download_date'])\n",
    "    rec['backup'] = 1\n",
    "    rec['producer_name'] = 'otodom'\n",
    "    rec['main_url'] = 'https://www.otodom.pl/sprzedaz/mieszkanie/warszawa/'\n",
    "\n",
    "    return rec"
   ]
  },
  {
   "cell_type": "code",
   "execution_count": null,
   "metadata": {},
   "outputs": [],
   "source": [
    "cnt_lim = 999999\n",
    "cnt = 0\n",
    "for row in db_bck.find({\"price\":{\"$ne\":np.NaN}},project):\n",
    "    cnt += 1\n",
    "    try:\n",
    "        _tmp = transform_rec(row)\n",
    "        db_org.insert_one(_tmp)    \n",
    "    except BaseException as e:\n",
    "        print(\"Exception, %s\" % e) \n",
    "    if cnt >= cnt_lim:\n",
    "        break"
   ]
  },
  {
   "cell_type": "code",
   "execution_count": null,
   "metadata": {},
   "outputs": [],
   "source": [
    "rec = db_bck.find_one({},project)\n"
   ]
  },
  {
   "cell_type": "code",
   "execution_count": null,
   "metadata": {},
   "outputs": [],
   "source": [
    "db_org.insert_one(rec)    "
   ]
  }
 ],
 "metadata": {
  "kernelspec": {
   "display_name": "Python 3",
   "language": "python",
   "name": "python3"
  },
  "language_info": {
   "codemirror_mode": {
    "name": "ipython",
    "version": 3
   },
   "file_extension": ".py",
   "mimetype": "text/x-python",
   "name": "python",
   "nbconvert_exporter": "python",
   "pygments_lexer": "ipython3",
   "version": "3.6.6"
  },
  "toc": {
   "base_numbering": 1,
   "nav_menu": {},
   "number_sections": true,
   "sideBar": true,
   "skip_h1_title": false,
   "title_cell": "Table of Contents",
   "title_sidebar": "Contents",
   "toc_cell": false,
   "toc_position": {},
   "toc_section_display": true,
   "toc_window_display": false
  }
 },
 "nbformat": 4,
 "nbformat_minor": 2
}
